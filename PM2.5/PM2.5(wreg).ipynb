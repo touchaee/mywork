{
 "cells": [
  {
   "cell_type": "code",
   "execution_count": 1,
   "metadata": {},
   "outputs": [
    {
     "data": {
      "text/html": [
       "\n",
       "        <iframe\n",
       "            width=\"1000\"\n",
       "            height=\"600\"\n",
       "            src=\"https://www.posttoday.com/social/local/538980\"\n",
       "            frameborder=\"0\"\n",
       "            allowfullscreen\n",
       "        ></iframe>\n",
       "        "
      ],
      "text/plain": [
       "<IPython.lib.display.IFrame at 0x264ff823048>"
      ]
     },
     "execution_count": 1,
     "metadata": {},
     "output_type": "execute_result"
    }
   ],
   "source": [
    "from IPython.display import IFrame\n",
    "IFrame('https://www.posttoday.com/social/local/538980', width=1000, height=600)"
   ]
  },
  {
   "cell_type": "markdown",
   "metadata": {
    "toc-hr-collapsed": true
   },
   "source": [
    "# อากาศหนาวเย็นและชื้น ทำฝุ่นละอองสะสมเพิ่ม จริงหรือ ?\n",
    "\n",
    "## ปัจจัยต่าง ๆ มีผลต่อค่า pm2.5 อย่างไร ?\n",
    "---"
   ]
  },
  {
   "cell_type": "markdown",
   "metadata": {},
   "source": [
    "#### import modules ต่างๆ ดังนี้\n",
    "\n",
    "```python \n",
    "import pandas as pd #จัดการข้อมูลประเภท data frames\n",
    "```\n",
    "```python \n",
    "import numpy as np #จัดการข้อมูลในรูปแบบ array หลายมิติ ตัด out liers\n",
    "```\n",
    "```python \n",
    "import matplotlib #เป็นส่วนการแสดงผลในรูปแบบ visualization เพื่อ plot กราฟ\n",
    "```\n",
    "```python \n",
    "import matplotlib.pyplot #เป็นส่วนการแสดงผลในรูปแบบ visualization เพื่อ plot กราฟ\n",
    "```\n",
    "```python \n",
    "import seaborn #ใช้ในการ plot กราฟ\n",
    "```\n",
    "```python \n",
    "from scipy import stats #ใช้งานฟังก์ชันทางสถิติ\n",
    "```\n",
    "```python \n",
    "%config InlineBackend.figure_format = 'retina' #เพื่อให้การแสดงผลของกราฟ แบบความละเอียดสูง\n",
    "```\n"
   ]
  },
  {
   "cell_type": "code",
   "execution_count": 2,
   "metadata": {},
   "outputs": [],
   "source": [
    "import pandas as pd\n",
    "import numpy as np\n",
    "import matplotlib\n",
    "import matplotlib.pyplot as plt\n",
    "import seaborn as sns\n",
    "import matplotlib.ticker\n",
    "from scipy import stats\n",
    "%matplotlib inline\n",
    "%config InlineBackend.figure_format = 'retina'"
   ]
  },
  {
   "cell_type": "code",
   "execution_count": 3,
   "metadata": {},
   "outputs": [
    {
     "name": "stdout",
     "output_type": "stream",
     "text": [
      "pandas version : 0.25.1\n",
      "numpy version : 1.16.5\n",
      "seaborn version : 0.9.0\n",
      "matplotlib version : 3.1.1\n"
     ]
    }
   ],
   "source": [
    "print(f'pandas version : {pd.__version__}')\n",
    "print(f'numpy version : {np.__version__}')\n",
    "print(f'seaborn version : {sns.__version__}')\n",
    "print(f'matplotlib version : {matplotlib.__version__}')"
   ]
  },
  {
   "cell_type": "markdown",
   "metadata": {},
   "source": [
    "#### กำหนด url ที่มาของข้อมูล"
   ]
  },
  {
   "cell_type": "code",
   "execution_count": 4,
   "metadata": {},
   "outputs": [],
   "source": [
    "url_pm = 'http://berkeleyearth.lbl.gov/air-quality/maps/cities/Thailand/Bangkok/Bangkok.txt'\n",
    "url_weather = 'https://raw.githubusercontent.com/touchaee/mywork/master/PM2.5/2019final.csv'"
   ]
  },
  {
   "cell_type": "markdown",
   "metadata": {},
   "source": [
    "#### สร้าง dataframe จาก url_pm"
   ]
  },
  {
   "cell_type": "code",
   "execution_count": 5,
   "metadata": {},
   "outputs": [
    {
     "data": {
      "text/html": [
       "<div>\n",
       "<style scoped>\n",
       "    .dataframe tbody tr th:only-of-type {\n",
       "        vertical-align: middle;\n",
       "    }\n",
       "\n",
       "    .dataframe tbody tr th {\n",
       "        vertical-align: top;\n",
       "    }\n",
       "\n",
       "    .dataframe thead th {\n",
       "        text-align: right;\n",
       "    }\n",
       "</style>\n",
       "<table border=\"1\" class=\"dataframe\">\n",
       "  <thead>\n",
       "    <tr style=\"text-align: right;\">\n",
       "      <th></th>\n",
       "      <th>Year</th>\n",
       "      <th>Month</th>\n",
       "      <th>Day</th>\n",
       "      <th>UTC Hour</th>\n",
       "      <th>PM2.5</th>\n",
       "      <th>PM10_mask</th>\n",
       "      <th>Retrospective</th>\n",
       "    </tr>\n",
       "  </thead>\n",
       "  <tbody>\n",
       "    <tr>\n",
       "      <td>0</td>\n",
       "      <td>2016</td>\n",
       "      <td>3</td>\n",
       "      <td>3</td>\n",
       "      <td>8</td>\n",
       "      <td>62.9</td>\n",
       "      <td>1.0</td>\n",
       "      <td>0</td>\n",
       "    </tr>\n",
       "    <tr>\n",
       "      <td>1</td>\n",
       "      <td>2016</td>\n",
       "      <td>3</td>\n",
       "      <td>3</td>\n",
       "      <td>9</td>\n",
       "      <td>62.9</td>\n",
       "      <td>1.0</td>\n",
       "      <td>0</td>\n",
       "    </tr>\n",
       "    <tr>\n",
       "      <td>2</td>\n",
       "      <td>2016</td>\n",
       "      <td>3</td>\n",
       "      <td>3</td>\n",
       "      <td>10</td>\n",
       "      <td>55.5</td>\n",
       "      <td>1.0</td>\n",
       "      <td>0</td>\n",
       "    </tr>\n",
       "    <tr>\n",
       "      <td>3</td>\n",
       "      <td>2016</td>\n",
       "      <td>3</td>\n",
       "      <td>3</td>\n",
       "      <td>11</td>\n",
       "      <td>55.5</td>\n",
       "      <td>1.0</td>\n",
       "      <td>0</td>\n",
       "    </tr>\n",
       "    <tr>\n",
       "      <td>4</td>\n",
       "      <td>2016</td>\n",
       "      <td>3</td>\n",
       "      <td>3</td>\n",
       "      <td>12</td>\n",
       "      <td>47.9</td>\n",
       "      <td>1.0</td>\n",
       "      <td>0</td>\n",
       "    </tr>\n",
       "  </tbody>\n",
       "</table>\n",
       "</div>"
      ],
      "text/plain": [
       "   Year  Month  Day  UTC Hour  PM2.5  PM10_mask  Retrospective\n",
       "0  2016      3    3         8   62.9        1.0              0\n",
       "1  2016      3    3         9   62.9        1.0              0\n",
       "2  2016      3    3        10   55.5        1.0              0\n",
       "3  2016      3    3        11   55.5        1.0              0\n",
       "4  2016      3    3        12   47.9        1.0              0"
      ]
     },
     "execution_count": 5,
     "metadata": {},
     "output_type": "execute_result"
    }
   ],
   "source": [
    "col_names = list('Year, Month, Day, UTC Hour, PM2.5, PM10_mask, Retrospective'.split(', '))\n",
    "df_pm = pd.read_csv(url_pm, sep = '\\t', skiprows = 10, names = col_names)\n",
    "df_pm.head()"
   ]
  },
  {
   "cell_type": "markdown",
   "metadata": {},
   "source": [
    "#### สร้าง dataframe จาก url_weather"
   ]
  },
  {
   "cell_type": "code",
   "execution_count": 6,
   "metadata": {},
   "outputs": [
    {
     "data": {
      "text/html": [
       "<div>\n",
       "<style scoped>\n",
       "    .dataframe tbody tr th:only-of-type {\n",
       "        vertical-align: middle;\n",
       "    }\n",
       "\n",
       "    .dataframe tbody tr th {\n",
       "        vertical-align: top;\n",
       "    }\n",
       "\n",
       "    .dataframe thead th {\n",
       "        text-align: right;\n",
       "    }\n",
       "</style>\n",
       "<table border=\"1\" class=\"dataframe\">\n",
       "  <thead>\n",
       "    <tr style=\"text-align: right;\">\n",
       "      <th></th>\n",
       "      <th>date</th>\n",
       "      <th>Time</th>\n",
       "      <th>Temperature (F)</th>\n",
       "      <th>Dew Point (F)</th>\n",
       "      <th>Humidity (%)</th>\n",
       "      <th>Wind</th>\n",
       "      <th>Wind Speed (mph)</th>\n",
       "      <th>Wind Gust (mph)</th>\n",
       "      <th>Pressure (in)</th>\n",
       "      <th>Precip. (in)</th>\n",
       "      <th>Condition</th>\n",
       "    </tr>\n",
       "  </thead>\n",
       "  <tbody>\n",
       "    <tr>\n",
       "      <td>0</td>\n",
       "      <td>2019-01-01</td>\n",
       "      <td>00:00:00</td>\n",
       "      <td>75</td>\n",
       "      <td>66</td>\n",
       "      <td>73</td>\n",
       "      <td>NNE</td>\n",
       "      <td>5.0</td>\n",
       "      <td>0.0</td>\n",
       "      <td>30.02</td>\n",
       "      <td>0.0</td>\n",
       "      <td>Fair</td>\n",
       "    </tr>\n",
       "    <tr>\n",
       "      <td>1</td>\n",
       "      <td>2019-01-01</td>\n",
       "      <td>00:30:00</td>\n",
       "      <td>75</td>\n",
       "      <td>68</td>\n",
       "      <td>78</td>\n",
       "      <td>NE</td>\n",
       "      <td>2.0</td>\n",
       "      <td>0.0</td>\n",
       "      <td>30.02</td>\n",
       "      <td>0.0</td>\n",
       "      <td>Fair</td>\n",
       "    </tr>\n",
       "    <tr>\n",
       "      <td>2</td>\n",
       "      <td>2019-01-01</td>\n",
       "      <td>01:00:00</td>\n",
       "      <td>75</td>\n",
       "      <td>64</td>\n",
       "      <td>69</td>\n",
       "      <td>NNE</td>\n",
       "      <td>7.0</td>\n",
       "      <td>0.0</td>\n",
       "      <td>30.02</td>\n",
       "      <td>0.0</td>\n",
       "      <td>Fair</td>\n",
       "    </tr>\n",
       "    <tr>\n",
       "      <td>3</td>\n",
       "      <td>2019-01-01</td>\n",
       "      <td>01:30:00</td>\n",
       "      <td>75</td>\n",
       "      <td>63</td>\n",
       "      <td>65</td>\n",
       "      <td>NNE</td>\n",
       "      <td>8.0</td>\n",
       "      <td>0.0</td>\n",
       "      <td>30.02</td>\n",
       "      <td>0.0</td>\n",
       "      <td>Fair</td>\n",
       "    </tr>\n",
       "    <tr>\n",
       "      <td>4</td>\n",
       "      <td>2019-01-01</td>\n",
       "      <td>02:00:00</td>\n",
       "      <td>73</td>\n",
       "      <td>64</td>\n",
       "      <td>73</td>\n",
       "      <td>NE</td>\n",
       "      <td>5.0</td>\n",
       "      <td>0.0</td>\n",
       "      <td>30.02</td>\n",
       "      <td>0.0</td>\n",
       "      <td>Fair</td>\n",
       "    </tr>\n",
       "  </tbody>\n",
       "</table>\n",
       "</div>"
      ],
      "text/plain": [
       "        date      Time  Temperature (F)  Dew Point (F)  Humidity (%) Wind  \\\n",
       "0 2019-01-01  00:00:00               75             66            73  NNE   \n",
       "1 2019-01-01  00:30:00               75             68            78   NE   \n",
       "2 2019-01-01  01:00:00               75             64            69  NNE   \n",
       "3 2019-01-01  01:30:00               75             63            65  NNE   \n",
       "4 2019-01-01  02:00:00               73             64            73   NE   \n",
       "\n",
       "   Wind Speed (mph)  Wind Gust (mph)  Pressure (in)  Precip. (in) Condition  \n",
       "0               5.0              0.0          30.02           0.0      Fair  \n",
       "1               2.0              0.0          30.02           0.0      Fair  \n",
       "2               7.0              0.0          30.02           0.0      Fair  \n",
       "3               8.0              0.0          30.02           0.0      Fair  \n",
       "4               5.0              0.0          30.02           0.0      Fair  "
      ]
     },
     "execution_count": 6,
     "metadata": {},
     "output_type": "execute_result"
    }
   ],
   "source": [
    "df_weather = pd.read_csv(url_weather, sep = ',', parse_dates= [0])\n",
    "df_weather.head()"
   ]
  },
  {
   "cell_type": "markdown",
   "metadata": {},
   "source": [
    "---\n",
    "\n",
    "# PART1 DF_PM\n",
    "\n",
    "---"
   ]
  },
  {
   "cell_type": "code",
   "execution_count": 7,
   "metadata": {},
   "outputs": [
    {
     "data": {
      "text/html": [
       "<div>\n",
       "<style scoped>\n",
       "    .dataframe tbody tr th:only-of-type {\n",
       "        vertical-align: middle;\n",
       "    }\n",
       "\n",
       "    .dataframe tbody tr th {\n",
       "        vertical-align: top;\n",
       "    }\n",
       "\n",
       "    .dataframe thead th {\n",
       "        text-align: right;\n",
       "    }\n",
       "</style>\n",
       "<table border=\"1\" class=\"dataframe\">\n",
       "  <thead>\n",
       "    <tr style=\"text-align: right;\">\n",
       "      <th></th>\n",
       "      <th>Year</th>\n",
       "      <th>Month</th>\n",
       "      <th>Day</th>\n",
       "      <th>UTC Hour</th>\n",
       "      <th>PM2.5</th>\n",
       "      <th>PM10_mask</th>\n",
       "      <th>Retrospective</th>\n",
       "    </tr>\n",
       "  </thead>\n",
       "  <tbody>\n",
       "    <tr>\n",
       "      <td>0</td>\n",
       "      <td>2016</td>\n",
       "      <td>3</td>\n",
       "      <td>3</td>\n",
       "      <td>8</td>\n",
       "      <td>62.9</td>\n",
       "      <td>1.0</td>\n",
       "      <td>0</td>\n",
       "    </tr>\n",
       "    <tr>\n",
       "      <td>1</td>\n",
       "      <td>2016</td>\n",
       "      <td>3</td>\n",
       "      <td>3</td>\n",
       "      <td>9</td>\n",
       "      <td>62.9</td>\n",
       "      <td>1.0</td>\n",
       "      <td>0</td>\n",
       "    </tr>\n",
       "    <tr>\n",
       "      <td>2</td>\n",
       "      <td>2016</td>\n",
       "      <td>3</td>\n",
       "      <td>3</td>\n",
       "      <td>10</td>\n",
       "      <td>55.5</td>\n",
       "      <td>1.0</td>\n",
       "      <td>0</td>\n",
       "    </tr>\n",
       "    <tr>\n",
       "      <td>3</td>\n",
       "      <td>2016</td>\n",
       "      <td>3</td>\n",
       "      <td>3</td>\n",
       "      <td>11</td>\n",
       "      <td>55.5</td>\n",
       "      <td>1.0</td>\n",
       "      <td>0</td>\n",
       "    </tr>\n",
       "    <tr>\n",
       "      <td>4</td>\n",
       "      <td>2016</td>\n",
       "      <td>3</td>\n",
       "      <td>3</td>\n",
       "      <td>12</td>\n",
       "      <td>47.9</td>\n",
       "      <td>1.0</td>\n",
       "      <td>0</td>\n",
       "    </tr>\n",
       "  </tbody>\n",
       "</table>\n",
       "</div>"
      ],
      "text/plain": [
       "   Year  Month  Day  UTC Hour  PM2.5  PM10_mask  Retrospective\n",
       "0  2016      3    3         8   62.9        1.0              0\n",
       "1  2016      3    3         9   62.9        1.0              0\n",
       "2  2016      3    3        10   55.5        1.0              0\n",
       "3  2016      3    3        11   55.5        1.0              0\n",
       "4  2016      3    3        12   47.9        1.0              0"
      ]
     },
     "execution_count": 7,
     "metadata": {},
     "output_type": "execute_result"
    }
   ],
   "source": [
    "df_pm.head()"
   ]
  },
  {
   "cell_type": "markdown",
   "metadata": {},
   "source": [
    "เนื่องจากค่า PM10_mask และ Retrospective เป็น one-value column (มีค่าเหมือนกันเกิน 95% หรือมากกว่า) จึงไม่นำมาวิเคราะห์"
   ]
  },
  {
   "cell_type": "code",
   "execution_count": 8,
   "metadata": {},
   "outputs": [],
   "source": [
    "df_pm.drop(columns= ['PM10_mask', 'Retrospective'], inplace = True)"
   ]
  },
  {
   "cell_type": "markdown",
   "metadata": {},
   "source": [
    "เปลี่ยนชื่อ columns UTC Hour เป็น Hour เนื่องจาก Datetime รับค่าแค่  year, month, day, hour, minute, second, microsecond และ tzinfo. "
   ]
  },
  {
   "cell_type": "code",
   "execution_count": 9,
   "metadata": {},
   "outputs": [],
   "source": [
    "df_pm.rename(columns = {'UTC Hour' : 'Hour'}, inplace = True)"
   ]
  },
  {
   "cell_type": "markdown",
   "metadata": {},
   "source": [
    "สร้าง column ชื่อ Datetime และแปลง column เวลาให้เป็นเวลาประเทศไทย (UTC+7)  \n",
    "และการใช้ ฟังก์ชั่น to_datetime และ to_timedelta ทำให้เวลาที่ +7 ชั่วโมงแล้วเกิน 24 จะปัดไปเป็นวันถัดไป"
   ]
  },
  {
   "cell_type": "code",
   "execution_count": 10,
   "metadata": {},
   "outputs": [
    {
     "data": {
      "text/html": [
       "<div>\n",
       "<style scoped>\n",
       "    .dataframe tbody tr th:only-of-type {\n",
       "        vertical-align: middle;\n",
       "    }\n",
       "\n",
       "    .dataframe tbody tr th {\n",
       "        vertical-align: top;\n",
       "    }\n",
       "\n",
       "    .dataframe thead th {\n",
       "        text-align: right;\n",
       "    }\n",
       "</style>\n",
       "<table border=\"1\" class=\"dataframe\">\n",
       "  <thead>\n",
       "    <tr style=\"text-align: right;\">\n",
       "      <th></th>\n",
       "      <th>Year</th>\n",
       "      <th>Month</th>\n",
       "      <th>Day</th>\n",
       "      <th>Hour</th>\n",
       "      <th>PM2.5</th>\n",
       "      <th>Datetime</th>\n",
       "    </tr>\n",
       "  </thead>\n",
       "  <tbody>\n",
       "    <tr>\n",
       "      <td>0</td>\n",
       "      <td>2016</td>\n",
       "      <td>3</td>\n",
       "      <td>3</td>\n",
       "      <td>8</td>\n",
       "      <td>62.9</td>\n",
       "      <td>2016-03-03 15:00:00</td>\n",
       "    </tr>\n",
       "    <tr>\n",
       "      <td>1</td>\n",
       "      <td>2016</td>\n",
       "      <td>3</td>\n",
       "      <td>3</td>\n",
       "      <td>9</td>\n",
       "      <td>62.9</td>\n",
       "      <td>2016-03-03 16:00:00</td>\n",
       "    </tr>\n",
       "    <tr>\n",
       "      <td>2</td>\n",
       "      <td>2016</td>\n",
       "      <td>3</td>\n",
       "      <td>3</td>\n",
       "      <td>10</td>\n",
       "      <td>55.5</td>\n",
       "      <td>2016-03-03 17:00:00</td>\n",
       "    </tr>\n",
       "    <tr>\n",
       "      <td>3</td>\n",
       "      <td>2016</td>\n",
       "      <td>3</td>\n",
       "      <td>3</td>\n",
       "      <td>11</td>\n",
       "      <td>55.5</td>\n",
       "      <td>2016-03-03 18:00:00</td>\n",
       "    </tr>\n",
       "    <tr>\n",
       "      <td>4</td>\n",
       "      <td>2016</td>\n",
       "      <td>3</td>\n",
       "      <td>3</td>\n",
       "      <td>12</td>\n",
       "      <td>47.9</td>\n",
       "      <td>2016-03-03 19:00:00</td>\n",
       "    </tr>\n",
       "  </tbody>\n",
       "</table>\n",
       "</div>"
      ],
      "text/plain": [
       "   Year  Month  Day  Hour  PM2.5            Datetime\n",
       "0  2016      3    3     8   62.9 2016-03-03 15:00:00\n",
       "1  2016      3    3     9   62.9 2016-03-03 16:00:00\n",
       "2  2016      3    3    10   55.5 2016-03-03 17:00:00\n",
       "3  2016      3    3    11   55.5 2016-03-03 18:00:00\n",
       "4  2016      3    3    12   47.9 2016-03-03 19:00:00"
      ]
     },
     "execution_count": 10,
     "metadata": {},
     "output_type": "execute_result"
    }
   ],
   "source": [
    "df_pm['Datetime'] = pd.to_datetime(df_pm[['Year', 'Month', 'Day', 'Hour']]) + pd.to_timedelta(7, unit = 'h')\n",
    "df_pm.head()"
   ]
  },
  {
   "cell_type": "markdown",
   "metadata": {},
   "source": [
    "---\n",
    "\n",
    "# PART2 DF_WEATHER\n",
    "\n",
    "---"
   ]
  },
  {
   "cell_type": "code",
   "execution_count": 11,
   "metadata": {},
   "outputs": [
    {
     "data": {
      "text/html": [
       "<div>\n",
       "<style scoped>\n",
       "    .dataframe tbody tr th:only-of-type {\n",
       "        vertical-align: middle;\n",
       "    }\n",
       "\n",
       "    .dataframe tbody tr th {\n",
       "        vertical-align: top;\n",
       "    }\n",
       "\n",
       "    .dataframe thead th {\n",
       "        text-align: right;\n",
       "    }\n",
       "</style>\n",
       "<table border=\"1\" class=\"dataframe\">\n",
       "  <thead>\n",
       "    <tr style=\"text-align: right;\">\n",
       "      <th></th>\n",
       "      <th>date</th>\n",
       "      <th>Time</th>\n",
       "      <th>Temperature (F)</th>\n",
       "      <th>Dew Point (F)</th>\n",
       "      <th>Humidity (%)</th>\n",
       "      <th>Wind</th>\n",
       "      <th>Wind Speed (mph)</th>\n",
       "      <th>Wind Gust (mph)</th>\n",
       "      <th>Pressure (in)</th>\n",
       "      <th>Precip. (in)</th>\n",
       "      <th>Condition</th>\n",
       "    </tr>\n",
       "  </thead>\n",
       "  <tbody>\n",
       "    <tr>\n",
       "      <td>0</td>\n",
       "      <td>2019-01-01</td>\n",
       "      <td>00:00:00</td>\n",
       "      <td>75</td>\n",
       "      <td>66</td>\n",
       "      <td>73</td>\n",
       "      <td>NNE</td>\n",
       "      <td>5.0</td>\n",
       "      <td>0.0</td>\n",
       "      <td>30.02</td>\n",
       "      <td>0.0</td>\n",
       "      <td>Fair</td>\n",
       "    </tr>\n",
       "    <tr>\n",
       "      <td>1</td>\n",
       "      <td>2019-01-01</td>\n",
       "      <td>00:30:00</td>\n",
       "      <td>75</td>\n",
       "      <td>68</td>\n",
       "      <td>78</td>\n",
       "      <td>NE</td>\n",
       "      <td>2.0</td>\n",
       "      <td>0.0</td>\n",
       "      <td>30.02</td>\n",
       "      <td>0.0</td>\n",
       "      <td>Fair</td>\n",
       "    </tr>\n",
       "    <tr>\n",
       "      <td>2</td>\n",
       "      <td>2019-01-01</td>\n",
       "      <td>01:00:00</td>\n",
       "      <td>75</td>\n",
       "      <td>64</td>\n",
       "      <td>69</td>\n",
       "      <td>NNE</td>\n",
       "      <td>7.0</td>\n",
       "      <td>0.0</td>\n",
       "      <td>30.02</td>\n",
       "      <td>0.0</td>\n",
       "      <td>Fair</td>\n",
       "    </tr>\n",
       "    <tr>\n",
       "      <td>3</td>\n",
       "      <td>2019-01-01</td>\n",
       "      <td>01:30:00</td>\n",
       "      <td>75</td>\n",
       "      <td>63</td>\n",
       "      <td>65</td>\n",
       "      <td>NNE</td>\n",
       "      <td>8.0</td>\n",
       "      <td>0.0</td>\n",
       "      <td>30.02</td>\n",
       "      <td>0.0</td>\n",
       "      <td>Fair</td>\n",
       "    </tr>\n",
       "    <tr>\n",
       "      <td>4</td>\n",
       "      <td>2019-01-01</td>\n",
       "      <td>02:00:00</td>\n",
       "      <td>73</td>\n",
       "      <td>64</td>\n",
       "      <td>73</td>\n",
       "      <td>NE</td>\n",
       "      <td>5.0</td>\n",
       "      <td>0.0</td>\n",
       "      <td>30.02</td>\n",
       "      <td>0.0</td>\n",
       "      <td>Fair</td>\n",
       "    </tr>\n",
       "  </tbody>\n",
       "</table>\n",
       "</div>"
      ],
      "text/plain": [
       "        date      Time  Temperature (F)  Dew Point (F)  Humidity (%) Wind  \\\n",
       "0 2019-01-01  00:00:00               75             66            73  NNE   \n",
       "1 2019-01-01  00:30:00               75             68            78   NE   \n",
       "2 2019-01-01  01:00:00               75             64            69  NNE   \n",
       "3 2019-01-01  01:30:00               75             63            65  NNE   \n",
       "4 2019-01-01  02:00:00               73             64            73   NE   \n",
       "\n",
       "   Wind Speed (mph)  Wind Gust (mph)  Pressure (in)  Precip. (in) Condition  \n",
       "0               5.0              0.0          30.02           0.0      Fair  \n",
       "1               2.0              0.0          30.02           0.0      Fair  \n",
       "2               7.0              0.0          30.02           0.0      Fair  \n",
       "3               8.0              0.0          30.02           0.0      Fair  \n",
       "4               5.0              0.0          30.02           0.0      Fair  "
      ]
     },
     "execution_count": 11,
     "metadata": {},
     "output_type": "execute_result"
    }
   ],
   "source": [
    "df_weather.head()"
   ]
  },
  {
   "cell_type": "markdown",
   "metadata": {},
   "source": [
    "แปลง column time จาก string เป็น time ด้วย to_timedelta"
   ]
  },
  {
   "cell_type": "code",
   "execution_count": 12,
   "metadata": {},
   "outputs": [],
   "source": [
    "df_weather['Time'] = pd.to_timedelta(df_weather['Time'])"
   ]
  },
  {
   "cell_type": "markdown",
   "metadata": {},
   "source": [
    "สร้าง column datetime โดย concat 2 column เข้าด้วยกัน"
   ]
  },
  {
   "cell_type": "code",
   "execution_count": 13,
   "metadata": {},
   "outputs": [
    {
     "data": {
      "text/html": [
       "<div>\n",
       "<style scoped>\n",
       "    .dataframe tbody tr th:only-of-type {\n",
       "        vertical-align: middle;\n",
       "    }\n",
       "\n",
       "    .dataframe tbody tr th {\n",
       "        vertical-align: top;\n",
       "    }\n",
       "\n",
       "    .dataframe thead th {\n",
       "        text-align: right;\n",
       "    }\n",
       "</style>\n",
       "<table border=\"1\" class=\"dataframe\">\n",
       "  <thead>\n",
       "    <tr style=\"text-align: right;\">\n",
       "      <th></th>\n",
       "      <th>date</th>\n",
       "      <th>Time</th>\n",
       "      <th>Temperature (F)</th>\n",
       "      <th>Dew Point (F)</th>\n",
       "      <th>Humidity (%)</th>\n",
       "      <th>Wind</th>\n",
       "      <th>Wind Speed (mph)</th>\n",
       "      <th>Wind Gust (mph)</th>\n",
       "      <th>Pressure (in)</th>\n",
       "      <th>Precip. (in)</th>\n",
       "      <th>Condition</th>\n",
       "      <th>Datetime</th>\n",
       "    </tr>\n",
       "  </thead>\n",
       "  <tbody>\n",
       "    <tr>\n",
       "      <td>0</td>\n",
       "      <td>2019-01-01</td>\n",
       "      <td>00:00:00</td>\n",
       "      <td>75</td>\n",
       "      <td>66</td>\n",
       "      <td>73</td>\n",
       "      <td>NNE</td>\n",
       "      <td>5.0</td>\n",
       "      <td>0.0</td>\n",
       "      <td>30.02</td>\n",
       "      <td>0.0</td>\n",
       "      <td>Fair</td>\n",
       "      <td>2019-01-01 00:00:00</td>\n",
       "    </tr>\n",
       "    <tr>\n",
       "      <td>1</td>\n",
       "      <td>2019-01-01</td>\n",
       "      <td>00:30:00</td>\n",
       "      <td>75</td>\n",
       "      <td>68</td>\n",
       "      <td>78</td>\n",
       "      <td>NE</td>\n",
       "      <td>2.0</td>\n",
       "      <td>0.0</td>\n",
       "      <td>30.02</td>\n",
       "      <td>0.0</td>\n",
       "      <td>Fair</td>\n",
       "      <td>2019-01-01 00:30:00</td>\n",
       "    </tr>\n",
       "    <tr>\n",
       "      <td>2</td>\n",
       "      <td>2019-01-01</td>\n",
       "      <td>01:00:00</td>\n",
       "      <td>75</td>\n",
       "      <td>64</td>\n",
       "      <td>69</td>\n",
       "      <td>NNE</td>\n",
       "      <td>7.0</td>\n",
       "      <td>0.0</td>\n",
       "      <td>30.02</td>\n",
       "      <td>0.0</td>\n",
       "      <td>Fair</td>\n",
       "      <td>2019-01-01 01:00:00</td>\n",
       "    </tr>\n",
       "    <tr>\n",
       "      <td>3</td>\n",
       "      <td>2019-01-01</td>\n",
       "      <td>01:30:00</td>\n",
       "      <td>75</td>\n",
       "      <td>63</td>\n",
       "      <td>65</td>\n",
       "      <td>NNE</td>\n",
       "      <td>8.0</td>\n",
       "      <td>0.0</td>\n",
       "      <td>30.02</td>\n",
       "      <td>0.0</td>\n",
       "      <td>Fair</td>\n",
       "      <td>2019-01-01 01:30:00</td>\n",
       "    </tr>\n",
       "    <tr>\n",
       "      <td>4</td>\n",
       "      <td>2019-01-01</td>\n",
       "      <td>02:00:00</td>\n",
       "      <td>73</td>\n",
       "      <td>64</td>\n",
       "      <td>73</td>\n",
       "      <td>NE</td>\n",
       "      <td>5.0</td>\n",
       "      <td>0.0</td>\n",
       "      <td>30.02</td>\n",
       "      <td>0.0</td>\n",
       "      <td>Fair</td>\n",
       "      <td>2019-01-01 02:00:00</td>\n",
       "    </tr>\n",
       "  </tbody>\n",
       "</table>\n",
       "</div>"
      ],
      "text/plain": [
       "        date     Time  Temperature (F)  Dew Point (F)  Humidity (%) Wind  \\\n",
       "0 2019-01-01 00:00:00               75             66            73  NNE   \n",
       "1 2019-01-01 00:30:00               75             68            78   NE   \n",
       "2 2019-01-01 01:00:00               75             64            69  NNE   \n",
       "3 2019-01-01 01:30:00               75             63            65  NNE   \n",
       "4 2019-01-01 02:00:00               73             64            73   NE   \n",
       "\n",
       "   Wind Speed (mph)  Wind Gust (mph)  Pressure (in)  Precip. (in) Condition  \\\n",
       "0               5.0              0.0          30.02           0.0      Fair   \n",
       "1               2.0              0.0          30.02           0.0      Fair   \n",
       "2               7.0              0.0          30.02           0.0      Fair   \n",
       "3               8.0              0.0          30.02           0.0      Fair   \n",
       "4               5.0              0.0          30.02           0.0      Fair   \n",
       "\n",
       "             Datetime  \n",
       "0 2019-01-01 00:00:00  \n",
       "1 2019-01-01 00:30:00  \n",
       "2 2019-01-01 01:00:00  \n",
       "3 2019-01-01 01:30:00  \n",
       "4 2019-01-01 02:00:00  "
      ]
     },
     "execution_count": 13,
     "metadata": {},
     "output_type": "execute_result"
    }
   ],
   "source": [
    "df_weather['Datetime'] = df_weather['date'] + df_weather['Time']\n",
    "df_weather.head()"
   ]
  },
  {
   "cell_type": "markdown",
   "metadata": {},
   "source": [
    "# PART3 MERGE DATAFRAME"
   ]
  },
  {
   "cell_type": "markdown",
   "metadata": {},
   "source": [
    "รวม 2 dataframe ด้วยคำสั่ง merge โดยให้ merge ด้วย column Datetime (Defualt คือการ join แบบ inner)"
   ]
  },
  {
   "cell_type": "code",
   "execution_count": 14,
   "metadata": {},
   "outputs": [
    {
     "data": {
      "text/html": [
       "<div>\n",
       "<style scoped>\n",
       "    .dataframe tbody tr th:only-of-type {\n",
       "        vertical-align: middle;\n",
       "    }\n",
       "\n",
       "    .dataframe tbody tr th {\n",
       "        vertical-align: top;\n",
       "    }\n",
       "\n",
       "    .dataframe thead th {\n",
       "        text-align: right;\n",
       "    }\n",
       "</style>\n",
       "<table border=\"1\" class=\"dataframe\">\n",
       "  <thead>\n",
       "    <tr style=\"text-align: right;\">\n",
       "      <th></th>\n",
       "      <th>Year</th>\n",
       "      <th>Month</th>\n",
       "      <th>Day</th>\n",
       "      <th>Hour</th>\n",
       "      <th>PM2.5</th>\n",
       "      <th>Datetime</th>\n",
       "      <th>date</th>\n",
       "      <th>Time</th>\n",
       "      <th>Temperature (F)</th>\n",
       "      <th>Dew Point (F)</th>\n",
       "      <th>Humidity (%)</th>\n",
       "      <th>Wind</th>\n",
       "      <th>Wind Speed (mph)</th>\n",
       "      <th>Wind Gust (mph)</th>\n",
       "      <th>Pressure (in)</th>\n",
       "      <th>Precip. (in)</th>\n",
       "      <th>Condition</th>\n",
       "    </tr>\n",
       "  </thead>\n",
       "  <tbody>\n",
       "    <tr>\n",
       "      <td>0</td>\n",
       "      <td>2018</td>\n",
       "      <td>12</td>\n",
       "      <td>31</td>\n",
       "      <td>17</td>\n",
       "      <td>26.5</td>\n",
       "      <td>2019-01-01 00:00:00</td>\n",
       "      <td>2019-01-01</td>\n",
       "      <td>00:00:00</td>\n",
       "      <td>75</td>\n",
       "      <td>66</td>\n",
       "      <td>73</td>\n",
       "      <td>NNE</td>\n",
       "      <td>5.0</td>\n",
       "      <td>0.0</td>\n",
       "      <td>30.02</td>\n",
       "      <td>0.0</td>\n",
       "      <td>Fair</td>\n",
       "    </tr>\n",
       "    <tr>\n",
       "      <td>1</td>\n",
       "      <td>2018</td>\n",
       "      <td>12</td>\n",
       "      <td>31</td>\n",
       "      <td>18</td>\n",
       "      <td>31.0</td>\n",
       "      <td>2019-01-01 01:00:00</td>\n",
       "      <td>2019-01-01</td>\n",
       "      <td>01:00:00</td>\n",
       "      <td>75</td>\n",
       "      <td>64</td>\n",
       "      <td>69</td>\n",
       "      <td>NNE</td>\n",
       "      <td>7.0</td>\n",
       "      <td>0.0</td>\n",
       "      <td>30.02</td>\n",
       "      <td>0.0</td>\n",
       "      <td>Fair</td>\n",
       "    </tr>\n",
       "    <tr>\n",
       "      <td>2</td>\n",
       "      <td>2018</td>\n",
       "      <td>12</td>\n",
       "      <td>31</td>\n",
       "      <td>19</td>\n",
       "      <td>27.4</td>\n",
       "      <td>2019-01-01 02:00:00</td>\n",
       "      <td>2019-01-01</td>\n",
       "      <td>02:00:00</td>\n",
       "      <td>73</td>\n",
       "      <td>64</td>\n",
       "      <td>73</td>\n",
       "      <td>NE</td>\n",
       "      <td>5.0</td>\n",
       "      <td>0.0</td>\n",
       "      <td>30.02</td>\n",
       "      <td>0.0</td>\n",
       "      <td>Fair</td>\n",
       "    </tr>\n",
       "    <tr>\n",
       "      <td>3</td>\n",
       "      <td>2018</td>\n",
       "      <td>12</td>\n",
       "      <td>31</td>\n",
       "      <td>20</td>\n",
       "      <td>29.6</td>\n",
       "      <td>2019-01-01 03:00:00</td>\n",
       "      <td>2019-01-01</td>\n",
       "      <td>03:00:00</td>\n",
       "      <td>73</td>\n",
       "      <td>64</td>\n",
       "      <td>73</td>\n",
       "      <td>N</td>\n",
       "      <td>5.0</td>\n",
       "      <td>0.0</td>\n",
       "      <td>29.99</td>\n",
       "      <td>0.0</td>\n",
       "      <td>Fair</td>\n",
       "    </tr>\n",
       "    <tr>\n",
       "      <td>4</td>\n",
       "      <td>2018</td>\n",
       "      <td>12</td>\n",
       "      <td>31</td>\n",
       "      <td>21</td>\n",
       "      <td>34.3</td>\n",
       "      <td>2019-01-01 04:00:00</td>\n",
       "      <td>2019-01-01</td>\n",
       "      <td>04:00:00</td>\n",
       "      <td>72</td>\n",
       "      <td>63</td>\n",
       "      <td>73</td>\n",
       "      <td>NNE</td>\n",
       "      <td>6.0</td>\n",
       "      <td>0.0</td>\n",
       "      <td>29.99</td>\n",
       "      <td>0.0</td>\n",
       "      <td>Fair</td>\n",
       "    </tr>\n",
       "  </tbody>\n",
       "</table>\n",
       "</div>"
      ],
      "text/plain": [
       "   Year  Month  Day  Hour  PM2.5            Datetime       date     Time  \\\n",
       "0  2018     12   31    17   26.5 2019-01-01 00:00:00 2019-01-01 00:00:00   \n",
       "1  2018     12   31    18   31.0 2019-01-01 01:00:00 2019-01-01 01:00:00   \n",
       "2  2018     12   31    19   27.4 2019-01-01 02:00:00 2019-01-01 02:00:00   \n",
       "3  2018     12   31    20   29.6 2019-01-01 03:00:00 2019-01-01 03:00:00   \n",
       "4  2018     12   31    21   34.3 2019-01-01 04:00:00 2019-01-01 04:00:00   \n",
       "\n",
       "   Temperature (F)  Dew Point (F)  Humidity (%) Wind  Wind Speed (mph)  \\\n",
       "0               75             66            73  NNE               5.0   \n",
       "1               75             64            69  NNE               7.0   \n",
       "2               73             64            73   NE               5.0   \n",
       "3               73             64            73    N               5.0   \n",
       "4               72             63            73  NNE               6.0   \n",
       "\n",
       "   Wind Gust (mph)  Pressure (in)  Precip. (in) Condition  \n",
       "0              0.0          30.02           0.0      Fair  \n",
       "1              0.0          30.02           0.0      Fair  \n",
       "2              0.0          30.02           0.0      Fair  \n",
       "3              0.0          29.99           0.0      Fair  \n",
       "4              0.0          29.99           0.0      Fair  "
      ]
     },
     "execution_count": 14,
     "metadata": {},
     "output_type": "execute_result"
    }
   ],
   "source": [
    "result = pd.merge(df_pm, df_weather, on = 'Datetime')\n",
    "result.head()"
   ]
  },
  {
   "cell_type": "markdown",
   "metadata": {},
   "source": [
    "drop column ที่ไม่ต้องการนำมาวิเคราะห์"
   ]
  },
  {
   "cell_type": "code",
   "execution_count": 15,
   "metadata": {},
   "outputs": [],
   "source": [
    "result.drop(columns = ['Year', 'Month', 'Day', 'Hour','date', 'Time', 'Condition', 'Wind'], inplace = True)"
   ]
  },
  {
   "cell_type": "markdown",
   "metadata": {},
   "source": [
    "เพื่อความสะดวกในการ plot กราฟ  \n",
    "กำหนดให้ column datetime เป็น index"
   ]
  },
  {
   "cell_type": "code",
   "execution_count": 16,
   "metadata": {},
   "outputs": [
    {
     "data": {
      "text/html": [
       "<div>\n",
       "<style scoped>\n",
       "    .dataframe tbody tr th:only-of-type {\n",
       "        vertical-align: middle;\n",
       "    }\n",
       "\n",
       "    .dataframe tbody tr th {\n",
       "        vertical-align: top;\n",
       "    }\n",
       "\n",
       "    .dataframe thead th {\n",
       "        text-align: right;\n",
       "    }\n",
       "</style>\n",
       "<table border=\"1\" class=\"dataframe\">\n",
       "  <thead>\n",
       "    <tr style=\"text-align: right;\">\n",
       "      <th></th>\n",
       "      <th>PM2.5</th>\n",
       "      <th>Temperature (F)</th>\n",
       "      <th>Dew Point (F)</th>\n",
       "      <th>Humidity (%)</th>\n",
       "      <th>Wind Speed (mph)</th>\n",
       "      <th>Wind Gust (mph)</th>\n",
       "      <th>Pressure (in)</th>\n",
       "      <th>Precip. (in)</th>\n",
       "    </tr>\n",
       "    <tr>\n",
       "      <th>Datetime</th>\n",
       "      <th></th>\n",
       "      <th></th>\n",
       "      <th></th>\n",
       "      <th></th>\n",
       "      <th></th>\n",
       "      <th></th>\n",
       "      <th></th>\n",
       "      <th></th>\n",
       "    </tr>\n",
       "  </thead>\n",
       "  <tbody>\n",
       "    <tr>\n",
       "      <td>2019-01-01 00:00:00</td>\n",
       "      <td>26.5</td>\n",
       "      <td>75</td>\n",
       "      <td>66</td>\n",
       "      <td>73</td>\n",
       "      <td>5.0</td>\n",
       "      <td>0.0</td>\n",
       "      <td>30.02</td>\n",
       "      <td>0.0</td>\n",
       "    </tr>\n",
       "    <tr>\n",
       "      <td>2019-01-01 01:00:00</td>\n",
       "      <td>31.0</td>\n",
       "      <td>75</td>\n",
       "      <td>64</td>\n",
       "      <td>69</td>\n",
       "      <td>7.0</td>\n",
       "      <td>0.0</td>\n",
       "      <td>30.02</td>\n",
       "      <td>0.0</td>\n",
       "    </tr>\n",
       "    <tr>\n",
       "      <td>2019-01-01 02:00:00</td>\n",
       "      <td>27.4</td>\n",
       "      <td>73</td>\n",
       "      <td>64</td>\n",
       "      <td>73</td>\n",
       "      <td>5.0</td>\n",
       "      <td>0.0</td>\n",
       "      <td>30.02</td>\n",
       "      <td>0.0</td>\n",
       "    </tr>\n",
       "    <tr>\n",
       "      <td>2019-01-01 03:00:00</td>\n",
       "      <td>29.6</td>\n",
       "      <td>73</td>\n",
       "      <td>64</td>\n",
       "      <td>73</td>\n",
       "      <td>5.0</td>\n",
       "      <td>0.0</td>\n",
       "      <td>29.99</td>\n",
       "      <td>0.0</td>\n",
       "    </tr>\n",
       "    <tr>\n",
       "      <td>2019-01-01 04:00:00</td>\n",
       "      <td>34.3</td>\n",
       "      <td>72</td>\n",
       "      <td>63</td>\n",
       "      <td>73</td>\n",
       "      <td>6.0</td>\n",
       "      <td>0.0</td>\n",
       "      <td>29.99</td>\n",
       "      <td>0.0</td>\n",
       "    </tr>\n",
       "  </tbody>\n",
       "</table>\n",
       "</div>"
      ],
      "text/plain": [
       "                     PM2.5  Temperature (F)  Dew Point (F)  Humidity (%)  \\\n",
       "Datetime                                                                   \n",
       "2019-01-01 00:00:00   26.5               75             66            73   \n",
       "2019-01-01 01:00:00   31.0               75             64            69   \n",
       "2019-01-01 02:00:00   27.4               73             64            73   \n",
       "2019-01-01 03:00:00   29.6               73             64            73   \n",
       "2019-01-01 04:00:00   34.3               72             63            73   \n",
       "\n",
       "                     Wind Speed (mph)  Wind Gust (mph)  Pressure (in)  \\\n",
       "Datetime                                                                \n",
       "2019-01-01 00:00:00               5.0              0.0          30.02   \n",
       "2019-01-01 01:00:00               7.0              0.0          30.02   \n",
       "2019-01-01 02:00:00               5.0              0.0          30.02   \n",
       "2019-01-01 03:00:00               5.0              0.0          29.99   \n",
       "2019-01-01 04:00:00               6.0              0.0          29.99   \n",
       "\n",
       "                     Precip. (in)  \n",
       "Datetime                           \n",
       "2019-01-01 00:00:00           0.0  \n",
       "2019-01-01 01:00:00           0.0  \n",
       "2019-01-01 02:00:00           0.0  \n",
       "2019-01-01 03:00:00           0.0  \n",
       "2019-01-01 04:00:00           0.0  "
      ]
     },
     "execution_count": 16,
     "metadata": {},
     "output_type": "execute_result"
    }
   ],
   "source": [
    "result.set_index('Datetime', inplace = True)\n",
    "result.head()"
   ]
  },
  {
   "cell_type": "markdown",
   "metadata": {
    "toc-hr-collapsed": false
   },
   "source": [
    "# PART4 CORRELATION"
   ]
  },
  {
   "cell_type": "markdown",
   "metadata": {},
   "source": [
    "### correlation table\n",
    "สร้างตาราง correlation table เพื่อดูความสัมพันธ์ของตัวแปรแต่ละตัวแปร"
   ]
  },
  {
   "cell_type": "code",
   "execution_count": 17,
   "metadata": {},
   "outputs": [
    {
     "data": {
      "text/html": [
       "<div>\n",
       "<style scoped>\n",
       "    .dataframe tbody tr th:only-of-type {\n",
       "        vertical-align: middle;\n",
       "    }\n",
       "\n",
       "    .dataframe tbody tr th {\n",
       "        vertical-align: top;\n",
       "    }\n",
       "\n",
       "    .dataframe thead th {\n",
       "        text-align: right;\n",
       "    }\n",
       "</style>\n",
       "<table border=\"1\" class=\"dataframe\">\n",
       "  <thead>\n",
       "    <tr style=\"text-align: right;\">\n",
       "      <th></th>\n",
       "      <th>PM2.5</th>\n",
       "      <th>Temperature (F)</th>\n",
       "      <th>Dew Point (F)</th>\n",
       "      <th>Humidity (%)</th>\n",
       "      <th>Wind Speed (mph)</th>\n",
       "      <th>Wind Gust (mph)</th>\n",
       "      <th>Pressure (in)</th>\n",
       "      <th>Precip. (in)</th>\n",
       "    </tr>\n",
       "  </thead>\n",
       "  <tbody>\n",
       "    <tr>\n",
       "      <td>PM2.5</td>\n",
       "      <td>1.000000</td>\n",
       "      <td>-0.080867</td>\n",
       "      <td>-0.190303</td>\n",
       "      <td>-0.000594</td>\n",
       "      <td>-0.165122</td>\n",
       "      <td>-0.003243</td>\n",
       "      <td>0.293186</td>\n",
       "      <td>NaN</td>\n",
       "    </tr>\n",
       "    <tr>\n",
       "      <td>Temperature (F)</td>\n",
       "      <td>-0.080867</td>\n",
       "      <td>1.000000</td>\n",
       "      <td>0.174041</td>\n",
       "      <td>-0.370487</td>\n",
       "      <td>0.360967</td>\n",
       "      <td>0.008372</td>\n",
       "      <td>-0.338050</td>\n",
       "      <td>NaN</td>\n",
       "    </tr>\n",
       "    <tr>\n",
       "      <td>Dew Point (F)</td>\n",
       "      <td>-0.190303</td>\n",
       "      <td>0.174041</td>\n",
       "      <td>1.000000</td>\n",
       "      <td>0.418739</td>\n",
       "      <td>-0.004834</td>\n",
       "      <td>0.005693</td>\n",
       "      <td>-0.455944</td>\n",
       "      <td>NaN</td>\n",
       "    </tr>\n",
       "    <tr>\n",
       "      <td>Humidity (%)</td>\n",
       "      <td>-0.000594</td>\n",
       "      <td>-0.370487</td>\n",
       "      <td>0.418739</td>\n",
       "      <td>1.000000</td>\n",
       "      <td>-0.183199</td>\n",
       "      <td>-0.008501</td>\n",
       "      <td>-0.027809</td>\n",
       "      <td>NaN</td>\n",
       "    </tr>\n",
       "    <tr>\n",
       "      <td>Wind Speed (mph)</td>\n",
       "      <td>-0.165122</td>\n",
       "      <td>0.360967</td>\n",
       "      <td>-0.004834</td>\n",
       "      <td>-0.183199</td>\n",
       "      <td>1.000000</td>\n",
       "      <td>0.160764</td>\n",
       "      <td>-0.307760</td>\n",
       "      <td>NaN</td>\n",
       "    </tr>\n",
       "    <tr>\n",
       "      <td>Wind Gust (mph)</td>\n",
       "      <td>-0.003243</td>\n",
       "      <td>0.008372</td>\n",
       "      <td>0.005693</td>\n",
       "      <td>-0.008501</td>\n",
       "      <td>0.160764</td>\n",
       "      <td>1.000000</td>\n",
       "      <td>-0.037963</td>\n",
       "      <td>NaN</td>\n",
       "    </tr>\n",
       "    <tr>\n",
       "      <td>Pressure (in)</td>\n",
       "      <td>0.293186</td>\n",
       "      <td>-0.338050</td>\n",
       "      <td>-0.455944</td>\n",
       "      <td>-0.027809</td>\n",
       "      <td>-0.307760</td>\n",
       "      <td>-0.037963</td>\n",
       "      <td>1.000000</td>\n",
       "      <td>NaN</td>\n",
       "    </tr>\n",
       "    <tr>\n",
       "      <td>Precip. (in)</td>\n",
       "      <td>NaN</td>\n",
       "      <td>NaN</td>\n",
       "      <td>NaN</td>\n",
       "      <td>NaN</td>\n",
       "      <td>NaN</td>\n",
       "      <td>NaN</td>\n",
       "      <td>NaN</td>\n",
       "      <td>NaN</td>\n",
       "    </tr>\n",
       "  </tbody>\n",
       "</table>\n",
       "</div>"
      ],
      "text/plain": [
       "                     PM2.5  Temperature (F)  Dew Point (F)  Humidity (%)  \\\n",
       "PM2.5             1.000000        -0.080867      -0.190303     -0.000594   \n",
       "Temperature (F)  -0.080867         1.000000       0.174041     -0.370487   \n",
       "Dew Point (F)    -0.190303         0.174041       1.000000      0.418739   \n",
       "Humidity (%)     -0.000594        -0.370487       0.418739      1.000000   \n",
       "Wind Speed (mph) -0.165122         0.360967      -0.004834     -0.183199   \n",
       "Wind Gust (mph)  -0.003243         0.008372       0.005693     -0.008501   \n",
       "Pressure (in)     0.293186        -0.338050      -0.455944     -0.027809   \n",
       "Precip. (in)           NaN              NaN            NaN           NaN   \n",
       "\n",
       "                  Wind Speed (mph)  Wind Gust (mph)  Pressure (in)  \\\n",
       "PM2.5                    -0.165122        -0.003243       0.293186   \n",
       "Temperature (F)           0.360967         0.008372      -0.338050   \n",
       "Dew Point (F)            -0.004834         0.005693      -0.455944   \n",
       "Humidity (%)             -0.183199        -0.008501      -0.027809   \n",
       "Wind Speed (mph)          1.000000         0.160764      -0.307760   \n",
       "Wind Gust (mph)           0.160764         1.000000      -0.037963   \n",
       "Pressure (in)            -0.307760        -0.037963       1.000000   \n",
       "Precip. (in)                   NaN              NaN            NaN   \n",
       "\n",
       "                  Precip. (in)  \n",
       "PM2.5                      NaN  \n",
       "Temperature (F)            NaN  \n",
       "Dew Point (F)              NaN  \n",
       "Humidity (%)               NaN  \n",
       "Wind Speed (mph)           NaN  \n",
       "Wind Gust (mph)            NaN  \n",
       "Pressure (in)              NaN  \n",
       "Precip. (in)               NaN  "
      ]
     },
     "execution_count": 17,
     "metadata": {},
     "output_type": "execute_result"
    }
   ],
   "source": [
    "result_corr = result.corr()\n",
    "result_corr"
   ]
  },
  {
   "cell_type": "markdown",
   "metadata": {},
   "source": [
    "### correlation matrix\n",
    "\n",
    "cmap คือการกำหนดสีของกราฟงับ"
   ]
  },
  {
   "cell_type": "code",
   "execution_count": 18,
   "metadata": {},
   "outputs": [],
   "source": [
    "cmap = sns.diverging_palette(h_neg = 0, h_pos = 120, as_cmap = True) "
   ]
  },
  {
   "cell_type": "markdown",
   "metadata": {},
   "source": [
    "สร้าง np.array ที่สมาชิกทุกตัวมีค่าเป็น 0 และมีขนาดเท่ากับ result_corr   \n",
    "จากนั้นน mask สามเหลี่ยมบน(tri-upper)ของ array mask ให้มีค่าเป็น 1"
   ]
  },
  {
   "cell_type": "code",
   "execution_count": 19,
   "metadata": {},
   "outputs": [
    {
     "data": {
      "text/plain": [
       "array([[1., 1., 1., 1., 1., 1., 1., 1.],\n",
       "       [0., 1., 1., 1., 1., 1., 1., 1.],\n",
       "       [0., 0., 1., 1., 1., 1., 1., 1.],\n",
       "       [0., 0., 0., 1., 1., 1., 1., 1.],\n",
       "       [0., 0., 0., 0., 1., 1., 1., 1.],\n",
       "       [0., 0., 0., 0., 0., 1., 1., 1.],\n",
       "       [0., 0., 0., 0., 0., 0., 1., 1.],\n",
       "       [0., 0., 0., 0., 0., 0., 0., 1.]])"
      ]
     },
     "execution_count": 19,
     "metadata": {},
     "output_type": "execute_result"
    }
   ],
   "source": [
    "mask=np.zeros_like(result.corr())\n",
    "mask[np.triu_indices_from(mask)] = True\n",
    "mask"
   ]
  },
  {
   "cell_type": "code",
   "execution_count": 20,
   "metadata": {},
   "outputs": [
    {
     "data": {
      "text/plain": [
       "<matplotlib.axes._subplots.AxesSubplot at 0x264845faac8>"
      ]
     },
     "execution_count": 20,
     "metadata": {},
     "output_type": "execute_result"
    },
    {
     "data": {
      "image/png": "[encoded data removed]",
      "text/plain": [
       "<Figure size 720x360 with 2 Axes>"
      ]
     },
     "metadata": {
      "image/png": {
       "height": 390,
       "width": 498
      },
      "needs_background": "light"
     },
     "output_type": "display_data"
    }
   ],
   "source": [
    "plt.figure(figsize = (10,5))\n",
    "sns.heatmap(result.corr(), mask=mask, annot=True, linewidths=.5, vmin = -1, vmax = 1, cmap = cmap, fmt = '.2f', square = True, center = 0 )"
   ]
  },
  {
   "cell_type": "markdown",
   "metadata": {},
   "source": [
    "จะเห็นได้ว่าจากปัจจัยที่เราทำการศึกษา presure เป็นปัจจัยที่มีค่า corrilation กับค่า pm2.5 มากที่สุด"
   ]
  },
  {
   "cell_type": "markdown",
   "metadata": {},
   "source": [
    "ดังจะเห็นได้จากกราฟแสดงความสัมพันธ์ด้านล่างนี้"
   ]
  },
  {
   "cell_type": "markdown",
   "metadata": {},
   "source": [
    "# Part5 PROOF"
   ]
  },
  {
   "cell_type": "code",
   "execution_count": 27,
   "metadata": {},
   "outputs": [
    {
     "data": {
      "text/html": [
       "<div>\n",
       "<style scoped>\n",
       "    .dataframe tbody tr th:only-of-type {\n",
       "        vertical-align: middle;\n",
       "    }\n",
       "\n",
       "    .dataframe tbody tr th {\n",
       "        vertical-align: top;\n",
       "    }\n",
       "\n",
       "    .dataframe thead th {\n",
       "        text-align: right;\n",
       "    }\n",
       "</style>\n",
       "<table border=\"1\" class=\"dataframe\">\n",
       "  <thead>\n",
       "    <tr style=\"text-align: right;\">\n",
       "      <th></th>\n",
       "      <th>Year</th>\n",
       "      <th>Month</th>\n",
       "      <th>Day</th>\n",
       "      <th>Hour</th>\n",
       "      <th>PM2.5</th>\n",
       "      <th>Datetime</th>\n",
       "      <th>date</th>\n",
       "      <th>Time</th>\n",
       "      <th>Temperature (F)</th>\n",
       "      <th>Dew Point (F)</th>\n",
       "      <th>Humidity (%)</th>\n",
       "      <th>Wind</th>\n",
       "      <th>Wind Speed (mph)</th>\n",
       "      <th>Wind Gust (mph)</th>\n",
       "      <th>Pressure (in)</th>\n",
       "      <th>Precip. (in)</th>\n",
       "      <th>Condition</th>\n",
       "    </tr>\n",
       "  </thead>\n",
       "  <tbody>\n",
       "    <tr>\n",
       "      <td>0</td>\n",
       "      <td>2018</td>\n",
       "      <td>12</td>\n",
       "      <td>31</td>\n",
       "      <td>17</td>\n",
       "      <td>26.5</td>\n",
       "      <td>2019-01-01 00:00:00</td>\n",
       "      <td>2019-01-01</td>\n",
       "      <td>00:00:00</td>\n",
       "      <td>75</td>\n",
       "      <td>66</td>\n",
       "      <td>73</td>\n",
       "      <td>NNE</td>\n",
       "      <td>5.0</td>\n",
       "      <td>0.0</td>\n",
       "      <td>30.02</td>\n",
       "      <td>0.0</td>\n",
       "      <td>Fair</td>\n",
       "    </tr>\n",
       "    <tr>\n",
       "      <td>1</td>\n",
       "      <td>2018</td>\n",
       "      <td>12</td>\n",
       "      <td>31</td>\n",
       "      <td>18</td>\n",
       "      <td>31.0</td>\n",
       "      <td>2019-01-01 01:00:00</td>\n",
       "      <td>2019-01-01</td>\n",
       "      <td>01:00:00</td>\n",
       "      <td>75</td>\n",
       "      <td>64</td>\n",
       "      <td>69</td>\n",
       "      <td>NNE</td>\n",
       "      <td>7.0</td>\n",
       "      <td>0.0</td>\n",
       "      <td>30.02</td>\n",
       "      <td>0.0</td>\n",
       "      <td>Fair</td>\n",
       "    </tr>\n",
       "    <tr>\n",
       "      <td>2</td>\n",
       "      <td>2018</td>\n",
       "      <td>12</td>\n",
       "      <td>31</td>\n",
       "      <td>19</td>\n",
       "      <td>27.4</td>\n",
       "      <td>2019-01-01 02:00:00</td>\n",
       "      <td>2019-01-01</td>\n",
       "      <td>02:00:00</td>\n",
       "      <td>73</td>\n",
       "      <td>64</td>\n",
       "      <td>73</td>\n",
       "      <td>NE</td>\n",
       "      <td>5.0</td>\n",
       "      <td>0.0</td>\n",
       "      <td>30.02</td>\n",
       "      <td>0.0</td>\n",
       "      <td>Fair</td>\n",
       "    </tr>\n",
       "    <tr>\n",
       "      <td>3</td>\n",
       "      <td>2018</td>\n",
       "      <td>12</td>\n",
       "      <td>31</td>\n",
       "      <td>20</td>\n",
       "      <td>29.6</td>\n",
       "      <td>2019-01-01 03:00:00</td>\n",
       "      <td>2019-01-01</td>\n",
       "      <td>03:00:00</td>\n",
       "      <td>73</td>\n",
       "      <td>64</td>\n",
       "      <td>73</td>\n",
       "      <td>N</td>\n",
       "      <td>5.0</td>\n",
       "      <td>0.0</td>\n",
       "      <td>29.99</td>\n",
       "      <td>0.0</td>\n",
       "      <td>Fair</td>\n",
       "    </tr>\n",
       "    <tr>\n",
       "      <td>4</td>\n",
       "      <td>2018</td>\n",
       "      <td>12</td>\n",
       "      <td>31</td>\n",
       "      <td>21</td>\n",
       "      <td>34.3</td>\n",
       "      <td>2019-01-01 04:00:00</td>\n",
       "      <td>2019-01-01</td>\n",
       "      <td>04:00:00</td>\n",
       "      <td>72</td>\n",
       "      <td>63</td>\n",
       "      <td>73</td>\n",
       "      <td>NNE</td>\n",
       "      <td>6.0</td>\n",
       "      <td>0.0</td>\n",
       "      <td>29.99</td>\n",
       "      <td>0.0</td>\n",
       "      <td>Fair</td>\n",
       "    </tr>\n",
       "  </tbody>\n",
       "</table>\n",
       "</div>"
      ],
      "text/plain": [
       "   Year  Month  Day  Hour  PM2.5            Datetime       date     Time  \\\n",
       "0  2018     12   31    17   26.5 2019-01-01 00:00:00 2019-01-01 00:00:00   \n",
       "1  2018     12   31    18   31.0 2019-01-01 01:00:00 2019-01-01 01:00:00   \n",
       "2  2018     12   31    19   27.4 2019-01-01 02:00:00 2019-01-01 02:00:00   \n",
       "3  2018     12   31    20   29.6 2019-01-01 03:00:00 2019-01-01 03:00:00   \n",
       "4  2018     12   31    21   34.3 2019-01-01 04:00:00 2019-01-01 04:00:00   \n",
       "\n",
       "   Temperature (F)  Dew Point (F)  Humidity (%) Wind  Wind Speed (mph)  \\\n",
       "0               75             66            73  NNE               5.0   \n",
       "1               75             64            69  NNE               7.0   \n",
       "2               73             64            73   NE               5.0   \n",
       "3               73             64            73    N               5.0   \n",
       "4               72             63            73  NNE               6.0   \n",
       "\n",
       "   Wind Gust (mph)  Pressure (in)  Precip. (in) Condition  \n",
       "0              0.0          30.02           0.0      Fair  \n",
       "1              0.0          30.02           0.0      Fair  \n",
       "2              0.0          30.02           0.0      Fair  \n",
       "3              0.0          29.99           0.0      Fair  \n",
       "4              0.0          29.99           0.0      Fair  "
      ]
     },
     "execution_count": 27,
     "metadata": {},
     "output_type": "execute_result"
    }
   ],
   "source": [
    "result = pd.merge(df_pm, df_weather, on = 'Datetime')\n",
    "result.head()"
   ]
  },
  {
   "cell_type": "code",
   "execution_count": 28,
   "metadata": {},
   "outputs": [
    {
     "data": {
      "text/plain": [
       "<seaborn.axisgrid.JointGrid at 0x264857ae288>"
      ]
     },
     "execution_count": 28,
     "metadata": {},
     "output_type": "execute_result"
    },
    {
     "data": {
      "image/png": "[encoded data removed]",
      "text/plain": [
       "<Figure size 432x432 with 3 Axes>"
      ]
     },
     "metadata": {
      "image/png": {
       "height": 423,
       "width": 427
      },
      "needs_background": "light"
     },
     "output_type": "display_data"
    }
   ],
   "source": [
    "sns.jointplot(x = 'Pressure (in)', y = 'PM2.5', data = result, kind = 'reg')"
   ]
  },
  {
   "cell_type": "code",
   "execution_count": 29,
   "metadata": {},
   "outputs": [
    {
     "data": {
      "text/plain": [
       "<seaborn.axisgrid.JointGrid at 0x26488a79688>"
      ]
     },
     "execution_count": 29,
     "metadata": {},
     "output_type": "execute_result"
    },
    {
     "data": {
      "image/png": "[encoded data removed]",
      "text/plain": [
       "<Figure size 432x432 with 3 Axes>"
      ]
     },
     "metadata": {
      "image/png": {
       "height": 423,
       "width": 427
      },
      "needs_background": "light"
     },
     "output_type": "display_data"
    }
   ],
   "source": [
    "sns.jointplot(x = 'Wind Speed (mph)', y = 'PM2.5', data = result, kind = 'reg')"
   ]
  },
  {
   "cell_type": "markdown",
   "metadata": {
    "toc-hr-collapsed": true
   },
   "source": [
    "# PART6 SCIKITLEARN"
   ]
  },
  {
   "cell_type": "markdown",
   "metadata": {},
   "source": [
    "## LINEAR"
   ]
  },
  {
   "cell_type": "code",
   "execution_count": 34,
   "metadata": {},
   "outputs": [],
   "source": [
    "from sklearn.linear_model import LinearRegression"
   ]
  },
  {
   "cell_type": "code",
   "execution_count": 35,
   "metadata": {},
   "outputs": [
    {
     "data": {
      "text/plain": [
       "LinearRegression(copy_X=True, fit_intercept=True, n_jobs=None, normalize=False)"
      ]
     },
     "execution_count": 35,
     "metadata": {},
     "output_type": "execute_result"
    }
   ],
   "source": [
    "result.dropna(inplace = True)\n",
    "model = LinearRegression()\n",
    "model"
   ]
  },
  {
   "cell_type": "code",
   "execution_count": 47,
   "metadata": {},
   "outputs": [],
   "source": [
    "X = result[['Temperature (F)']]\n",
    "y = result['PM2.5']"
   ]
  },
  {
   "cell_type": "code",
   "execution_count": 48,
   "metadata": {},
   "outputs": [
    {
     "data": {
      "text/plain": [
       "LinearRegression(copy_X=True, fit_intercept=True, n_jobs=None, normalize=False)"
      ]
     },
     "execution_count": 48,
     "metadata": {},
     "output_type": "execute_result"
    }
   ],
   "source": [
    "model.fit(X,y)"
   ]
  },
  {
   "cell_type": "code",
   "execution_count": 49,
   "metadata": {},
   "outputs": [
    {
     "data": {
      "text/plain": [
       "0.006582824464913538"
      ]
     },
     "execution_count": 49,
     "metadata": {},
     "output_type": "execute_result"
    }
   ],
   "source": [
    "model.score(X, y)"
   ]
  },
  {
   "cell_type": "code",
   "execution_count": 24,
   "metadata": {},
   "outputs": [],
   "source": [
    "import statsmodels.api as sm"
   ]
  },
  {
   "cell_type": "code",
   "execution_count": 25,
   "metadata": {},
   "outputs": [
    {
     "name": "stderr",
     "output_type": "stream",
     "text": [
      "C:\\Users\\kitit\\Anaconda3\\lib\\site-packages\\numpy\\core\\fromnumeric.py:2389: FutureWarning: Method .ptp is deprecated and will be removed in a future version. Use numpy.ptp instead.\n",
      "  return ptp(axis=axis, out=out, **kwargs)\n"
     ]
    }
   ],
   "source": [
    "X2 = sm.add_constant(X)"
   ]
  },
  {
   "cell_type": "code",
   "execution_count": 26,
   "metadata": {},
   "outputs": [
    {
     "name": "stdout",
     "output_type": "stream",
     "text": [
      "                            OLS Regression Results                            \n",
      "==============================================================================\n",
      "Dep. Variable:                  PM2.5   R-squared:                       0.094\n",
      "Model:                            OLS   Adj. R-squared:                  0.093\n",
      "Method:                 Least Squares   F-statistic:                     177.4\n",
      "Date:                Wed, 05 Feb 2020   Prob (F-statistic):          7.77e-145\n",
      "Time:                        09:02:38   Log-Likelihood:                -27393.\n",
      "No. Observations:                6864   AIC:                         5.480e+04\n",
      "Df Residuals:                    6859   BIC:                         5.483e+04\n",
      "Df Model:                           4                                         \n",
      "Covariance Type:            nonrobust                                         \n",
      "===================================================================================\n",
      "                      coef    std err          t      P>|t|      [0.025      0.975]\n",
      "-----------------------------------------------------------------------------------\n",
      "const           -1174.6886     64.219    -18.292      0.000   -1300.579   -1048.799\n",
      "Pressure (in)      40.5485      2.094     19.363      0.000      36.443      44.654\n",
      "Temperature (F)     0.1228      0.031      3.939      0.000       0.062       0.184\n",
      "Dew Point (F)      -0.2973      0.040     -7.376      0.000      -0.376      -0.218\n",
      "Humidity (%)        0.0588      0.012      5.032      0.000       0.036       0.082\n",
      "==============================================================================\n",
      "Omnibus:                     1490.781   Durbin-Watson:                   0.055\n",
      "Prob(Omnibus):                  0.000   Jarque-Bera (JB):             3271.484\n",
      "Skew:                           1.247   Prob(JB):                         0.00\n",
      "Kurtosis:                       5.284   Cond. No.                     5.48e+04\n",
      "==============================================================================\n",
      "\n",
      "Warnings:\n",
      "[1] Standard Errors assume that the covariance matrix of the errors is correctly specified.\n",
      "[2] The condition number is large, 5.48e+04. This might indicate that there are\n",
      "strong multicollinearity or other numerical problems.\n"
     ]
    }
   ],
   "source": [
    "est = sm.OLS(y, X2)\n",
    "est2 = est.fit()\n",
    "print(est2.summary())"
   ]
  },
  {
   "cell_type": "code",
   "execution_count": null,
   "metadata": {},
   "outputs": [],
   "source": []
  },
  {
   "cell_type": "code",
   "execution_count": null,
   "metadata": {},
   "outputs": [],
   "source": []
  },
  {
   "cell_type": "code",
   "execution_count": null,
   "metadata": {},
   "outputs": [],
   "source": []
  },
  {
   "cell_type": "code",
   "execution_count": null,
   "metadata": {},
   "outputs": [],
   "source": []
  },
  {
   "cell_type": "code",
   "execution_count": null,
   "metadata": {},
   "outputs": [],
   "source": []
  },
  {
   "cell_type": "code",
   "execution_count": null,
   "metadata": {},
   "outputs": [],
   "source": []
  },
  {
   "cell_type": "code",
   "execution_count": null,
   "metadata": {},
   "outputs": [],
   "source": []
  },
  {
   "cell_type": "code",
   "execution_count": null,
   "metadata": {},
   "outputs": [],
   "source": []
  },
  {
   "cell_type": "code",
   "execution_count": null,
   "metadata": {},
   "outputs": [],
   "source": []
  },
  {
   "cell_type": "code",
   "execution_count": null,
   "metadata": {},
   "outputs": [],
   "source": []
  },
  {
   "cell_type": "code",
   "execution_count": null,
   "metadata": {},
   "outputs": [],
   "source": []
  },
  {
   "cell_type": "code",
   "execution_count": null,
   "metadata": {},
   "outputs": [],
   "source": []
  }
 ],
 "metadata": {
  "kernelspec": {
   "display_name": "Python 3",
   "language": "python",
   "name": "python3"
  },
  "language_info": {
   "codemirror_mode": {
    "name": "ipython",
    "version": 3
   },
   "file_extension": ".py",
   "mimetype": "text/x-python",
   "name": "python",
   "nbconvert_exporter": "python",
   "pygments_lexer": "ipython3",
   "version": "3.7.4"
  },
  "toc-autonumbering": false,
  "toc-showmarkdowntxt": false
 },
 "nbformat": 4,
 "nbformat_minor": 4
}
