{
 "cells": [
  {
   "cell_type": "code",
   "execution_count": 1,
   "metadata": {},
   "outputs": [],
   "source": [
    "import pandas as pd\n",
    "import numpy as np\n",
    "import os"
   ]
  },
  {
   "cell_type": "markdown",
   "metadata": {},
   "source": [
    "#### SELECT CURRENT PATH"
   ]
  },
  {
   "cell_type": "code",
   "execution_count": 2,
   "metadata": {},
   "outputs": [
    {
     "name": "stdout",
     "output_type": "stream",
     "text": [
      "C:\\Users\\kitit\\Desktop\\Folder\\AJ. Prasert\\JOB1\\DEMO\n"
     ]
    }
   ],
   "source": [
    "import os\n",
    "cwd = os.path.abspath('')\n",
    "print(cwd)"
   ]
  },
  {
   "cell_type": "markdown",
   "metadata": {},
   "source": [
    "#### SELECT FILE .XLSX IN CURRENT FOLDER\n",
    "ถ้าอยากให้มี xls แก้เพิ่ม or filename.endswith('.xls')"
   ]
  },
  {
   "cell_type": "code",
   "execution_count": 3,
   "metadata": {},
   "outputs": [
    {
     "name": "stdout",
     "output_type": "stream",
     "text": [
      "1.xlsx\n",
      "2.xlsx\n",
      "3.xlsx\n",
      "4.xlsx\n",
      "5.xlsx\n"
     ]
    }
   ],
   "source": [
    "for file in os.listdir(cwd):\n",
    "    filename = os.fsdecode(file)\n",
    "    if filename.endswith('.xlsx'):\n",
    "        print(filename)\n",
    "    else:\n",
    "        pass"
   ]
  },
  {
   "cell_type": "markdown",
   "metadata": {},
   "source": [
    "#### CREATE DATAFRAME FROM SELECTED FILE"
   ]
  },
  {
   "cell_type": "markdown",
   "metadata": {},
   "source": [
    "ใช้ loop สร้าง dataframe ใน dict\n",
    "<br>\n",
    "โดย key ชื่อว่า df1, df2, df3, ...\n",
    "<br>\n",
    "    value เป็น dataframe"
   ]
  },
  {
   "cell_type": "code",
   "execution_count": 4,
   "metadata": {},
   "outputs": [],
   "source": [
    "dict_store_df = {}\n",
    "for file in os.listdir(cwd):\n",
    "    filename = os.fsdecode(file)\n",
    "    if filename == 'result.xlsx':\n",
    "        pass\n",
    "    elif filename.endswith('.xlsx'):\n",
    "        dict_store_df['df{}'.format(filename[0])] = pd.read_excel(filename, skiprows= 12)\n",
    "    else:\n",
    "        pass"
   ]
  },
  {
   "cell_type": "markdown",
   "metadata": {},
   "source": [
    "#### FILTER TWO COLUMN ('TITLE', 'CITATIONS') AND DROP 2 LAST ROWS\n",
    "<br>\n",
    "filter ให้เหลือแค่คอลัมน์ Title, Citations\n",
    "<br>\n",
    "ลบสองแถวสุดท้าย เพราะว่าไม่มีข้อมูล"
   ]
  },
  {
   "cell_type": "code",
   "execution_count": 5,
   "metadata": {},
   "outputs": [],
   "source": [
    "for key in dict_store_df:\n",
    "    dict_store_df[key] = dict_store_df[key][['Title', 'Citations']]\n",
    "    dict_store_df[key].drop(dict_store_df[key].tail(2).index,inplace=True)"
   ]
  },
  {
   "cell_type": "markdown",
   "metadata": {},
   "source": [
    "#### FIND A MONTH NAME\n",
    "จาก format ไฟล์ excel ตัววันที่จะอยู่แถวที่ 9 คอลัมน์ C"
   ]
  },
  {
   "cell_type": "code",
   "execution_count": 6,
   "metadata": {},
   "outputs": [],
   "source": [
    "month = pd.read_excel('2.xlsx', skiprows= 6)\n",
    "month = month.iloc[1,2]"
   ]
  },
  {
   "cell_type": "markdown",
   "metadata": {},
   "source": [
    "# CREATE  RESULT DATAFRAME"
   ]
  },
  {
   "cell_type": "code",
   "execution_count": 7,
   "metadata": {},
   "outputs": [
    {
     "data": {
      "text/html": [
       "<div>\n",
       "<style scoped>\n",
       "    .dataframe tbody tr th:only-of-type {\n",
       "        vertical-align: middle;\n",
       "    }\n",
       "\n",
       "    .dataframe tbody tr th {\n",
       "        vertical-align: top;\n",
       "    }\n",
       "\n",
       "    .dataframe thead th {\n",
       "        text-align: right;\n",
       "    }\n",
       "</style>\n",
       "<table border=\"1\" class=\"dataframe\">\n",
       "  <thead>\n",
       "    <tr style=\"text-align: right;\">\n",
       "      <th></th>\n",
       "      <th>Title</th>\n",
       "      <th>First</th>\n",
       "      <th>1 March 2019</th>\n",
       "      <th>Total</th>\n",
       "    </tr>\n",
       "  </thead>\n",
       "  <tbody>\n",
       "    <tr>\n",
       "      <td>0</td>\n",
       "      <td>Auditor Independence and Audit Quality: A Lite...</td>\n",
       "      <td>40.0</td>\n",
       "      <td>0.0</td>\n",
       "      <td>40.0</td>\n",
       "    </tr>\n",
       "    <tr>\n",
       "      <td>1</td>\n",
       "      <td>A novel architecture for requirement-oriented ...</td>\n",
       "      <td>35.0</td>\n",
       "      <td>0.0</td>\n",
       "      <td>35.0</td>\n",
       "    </tr>\n",
       "    <tr>\n",
       "      <td>2</td>\n",
       "      <td>Compliance checking for requirement-oriented s...</td>\n",
       "      <td>34.0</td>\n",
       "      <td>0.0</td>\n",
       "      <td>34.0</td>\n",
       "    </tr>\n",
       "    <tr>\n",
       "      <td>3</td>\n",
       "      <td>The societal relevance of management accountin...</td>\n",
       "      <td>30.0</td>\n",
       "      <td>0.0</td>\n",
       "      <td>30.0</td>\n",
       "    </tr>\n",
       "    <tr>\n",
       "      <td>4</td>\n",
       "      <td>Revenue maximization with a single sample</td>\n",
       "      <td>27.0</td>\n",
       "      <td>0.0</td>\n",
       "      <td>27.0</td>\n",
       "    </tr>\n",
       "  </tbody>\n",
       "</table>\n",
       "</div>"
      ],
      "text/plain": [
       "                                               Title  First  1 March 2019  \\\n",
       "0  Auditor Independence and Audit Quality: A Lite...   40.0           0.0   \n",
       "1  A novel architecture for requirement-oriented ...   35.0           0.0   \n",
       "2  Compliance checking for requirement-oriented s...   34.0           0.0   \n",
       "3  The societal relevance of management accountin...   30.0           0.0   \n",
       "4          Revenue maximization with a single sample   27.0           0.0   \n",
       "\n",
       "   Total  \n",
       "0   40.0  \n",
       "1   35.0  \n",
       "2   34.0  \n",
       "3   30.0  \n",
       "4   27.0  "
      ]
     },
     "execution_count": 7,
     "metadata": {},
     "output_type": "execute_result"
    }
   ],
   "source": [
    "result = pd.merge(dict_store_df['df2'], dict_store_df['df1'], how = 'left', on = 'Title')\n",
    "result['change'] = result['Citations_x'] - result['Citations_y']\n",
    "result = result[['Title', 'Citations_y','change']]\n",
    "result.columns = ['Title', 'First', month]\n",
    "result['Total'] = result['First'] + result[month]\n",
    "result.head()"
   ]
  },
  {
   "cell_type": "markdown",
   "metadata": {},
   "source": [
    "## LOOP ADD DIFF COLUMN TO RESULT DATAFRAME\n",
    "ใช้ loop โดยการ left join (result, df) จากนั้นหาผลต่าง ทำไปเรื่อยๆจ้า"
   ]
  },
  {
   "cell_type": "code",
   "execution_count": 8,
   "metadata": {},
   "outputs": [],
   "source": [
    "for i in range(3,len(dict_store_df)+1):\n",
    "    month = pd.read_excel('{}.xlsx'.format(i), skiprows= 6)\n",
    "    month = month.iloc[1,2]\n",
    "    result = pd.merge(dict_store_df['df{}'.format(i)], result, how='left', on = 'Title')\n",
    "    result.fillna(0, inplace = True)\n",
    "    result[month] = result['Citations'] - result['Total']\n",
    "    del result['Total']\n",
    "    del result['Citations']\n",
    "    result['Total'] = result.iloc[:, 1:].sum(axis = 1)\n"
   ]
  },
  {
   "cell_type": "markdown",
   "metadata": {},
   "source": [
    "month = pd.read_excel('3.xlsx', skiprows= 6)\n",
    "month = month.iloc[1,2]\n",
    "result = pd.merge(dict_store_df['df3'], result, how='left', on = 'Title')\n",
    "result\n",
    "result[month] = result['Citations'] - result['Total']\n",
    "del result['Total']\n",
    "del result['Citations']\n",
    "result['Total'] = result.iloc[:, 1:].sum(axis = 1)\n",
    "result"
   ]
  },
  {
   "cell_type": "markdown",
   "metadata": {},
   "source": [
    "### RESET INDEX"
   ]
  },
  {
   "cell_type": "code",
   "execution_count": 9,
   "metadata": {},
   "outputs": [],
   "source": [
    "result.index = range(1, len(result)+1)"
   ]
  },
  {
   "cell_type": "markdown",
   "metadata": {},
   "source": [
    "# DATAFRAME TO EXCEL"
   ]
  },
  {
   "cell_type": "code",
   "execution_count": 10,
   "metadata": {},
   "outputs": [],
   "source": [
    "result.to_excel('result.xlsx')"
   ]
  },
  {
   "cell_type": "markdown",
   "metadata": {},
   "source": [
    "# ตกแต่ง excel กันเถอะ"
   ]
  },
  {
   "cell_type": "markdown",
   "metadata": {},
   "source": [
    "writer = pd.ExcelWriter('result.xlsx', engine='xlsxwriter')\n",
    "result.to_excel(writer, sheet_name = 'raw')\n",
    "workbook  = writer.book\n",
    "worksheet = writer.sheets['raw']\n",
    "worksheet.set_column('A:A', 5)\n",
    "worksheet.set_column('B:B', 50)\n",
    "worksheet.set_column('C:Z', 15)\n",
    "writer.save()"
   ]
  },
  {
   "cell_type": "code",
   "execution_count": null,
   "metadata": {},
   "outputs": [],
   "source": []
  },
  {
   "cell_type": "code",
   "execution_count": null,
   "metadata": {},
   "outputs": [],
   "source": []
  },
  {
   "cell_type": "code",
   "execution_count": null,
   "metadata": {},
   "outputs": [],
   "source": []
  },
  {
   "cell_type": "code",
   "execution_count": null,
   "metadata": {},
   "outputs": [],
   "source": []
  },
  {
   "cell_type": "code",
   "execution_count": null,
   "metadata": {},
   "outputs": [],
   "source": []
  },
  {
   "cell_type": "code",
   "execution_count": null,
   "metadata": {},
   "outputs": [],
   "source": []
  }
 ],
 "metadata": {
  "kernelspec": {
   "display_name": "Python 3",
   "language": "python",
   "name": "python3"
  },
  "language_info": {
   "codemirror_mode": {
    "name": "ipython",
    "version": 3
   },
   "file_extension": ".py",
   "mimetype": "text/x-python",
   "name": "python",
   "nbconvert_exporter": "python",
   "pygments_lexer": "ipython3",
   "version": "3.7.4"
  }
 },
 "nbformat": 4,
 "nbformat_minor": 2
}
