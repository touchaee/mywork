{
 "cells": [
  {
   "cell_type": "markdown",
   "metadata": {},
   "source": [
    "# Excel Citation"
   ]
  },
  {
   "cell_type": "markdown",
   "metadata": {},
   "source": [
    "---\n",
    "* author:  [Prasert Kanawattanachai](prasert.k@chula.ac.th)\n",
    "* YouTube: https://www.youtube.com/prasertcbs\n",
    "* [Chulalongkorn Business School](https://www.cbs.chula.ac.th/en/)\n",
    "---"
   ]
  },
  {
   "cell_type": "code",
   "execution_count": 1,
   "metadata": {},
   "outputs": [],
   "source": [
    "from IPython.display import YouTubeVideo\n",
    "# YouTubeVideo('', width=720, height=405)"
   ]
  },
  {
   "cell_type": "code",
   "execution_count": 2,
   "metadata": {},
   "outputs": [],
   "source": [
    "import pandas as pd\n",
    "import seaborn as sns\n",
    "import matplotlib.pyplot as plt\n",
    "import numpy as np\n",
    "\n",
    "import json\n",
    "from pandas.io.json import json_normalize\n",
    "import requests\n",
    "from PIL import Image\n",
    "import io\n",
    "import random\n",
    "\n",
    "%matplotlib inline\n",
    "%config InlineBackend.figure_format='retina'"
   ]
  },
  {
   "cell_type": "code",
   "execution_count": 3,
   "metadata": {
    "colab": {
     "base_uri": "https://localhost:8080/",
     "height": 64
    },
    "colab_type": "code",
    "id": "fdr0pYIf7P-_",
    "outputId": "c919deae-c99b-44b0-8924-4d2355ca0b63"
   },
   "outputs": [
    {
     "name": "stdout",
     "output_type": "stream",
     "text": [
      "pandas version:  0.25.1\n",
      "seaborn version: 0.9.0\n"
     ]
    }
   ],
   "source": [
    "print(f'pandas version:  {pd.__version__}')\n",
    "print(f'seaborn version: {sns.__version__}')"
   ]
  },
  {
   "cell_type": "code",
   "execution_count": 4,
   "metadata": {},
   "outputs": [
    {
     "data": {
      "text/plain": [
       "Timestamp('2020-01-15 18:41:50.082471')"
      ]
     },
     "execution_count": 4,
     "metadata": {},
     "output_type": "execute_result"
    }
   ],
   "source": [
    "pd.Timestamp.now()"
   ]
  },
  {
   "cell_type": "code",
   "execution_count": 5,
   "metadata": {},
   "outputs": [
    {
     "data": {
      "text/plain": [
       "'2020-01-15'"
      ]
     },
     "execution_count": 5,
     "metadata": {},
     "output_type": "execute_result"
    }
   ],
   "source": [
    "pd.Timestamp.now().strftime('%Y-%m-%d')"
   ]
  },
  {
   "cell_type": "code",
   "execution_count": 10,
   "metadata": {},
   "outputs": [
    {
     "data": {
      "text/html": [
       "<div>\n",
       "<style scoped>\n",
       "    .dataframe tbody tr th:only-of-type {\n",
       "        vertical-align: middle;\n",
       "    }\n",
       "\n",
       "    .dataframe tbody tr th {\n",
       "        vertical-align: top;\n",
       "    }\n",
       "\n",
       "    .dataframe thead th {\n",
       "        text-align: right;\n",
       "    }\n",
       "</style>\n",
       "<table border=\"1\" class=\"dataframe\">\n",
       "  <thead>\n",
       "    <tr style=\"text-align: right;\">\n",
       "      <th></th>\n",
       "      <th>Title</th>\n",
       "      <th>Authors</th>\n",
       "      <th>Year</th>\n",
       "      <th>Scopus Source title</th>\n",
       "      <th>Volume</th>\n",
       "      <th>Issue</th>\n",
       "      <th>Pages</th>\n",
       "      <th>Citations</th>\n",
       "    </tr>\n",
       "  </thead>\n",
       "  <tbody>\n",
       "    <tr>\n",
       "      <td>0</td>\n",
       "      <td>Auditor Independence and Audit Quality: A Lite...</td>\n",
       "      <td>Tepalagul, N., Lin, L.</td>\n",
       "      <td>2015.0</td>\n",
       "      <td>Journal of Accounting, Auditing and Finance</td>\n",
       "      <td>30</td>\n",
       "      <td>1</td>\n",
       "      <td>101-121</td>\n",
       "      <td>44.0</td>\n",
       "    </tr>\n",
       "    <tr>\n",
       "      <td>1</td>\n",
       "      <td>A novel architecture for requirement-oriented ...</td>\n",
       "      <td>Xu, L.D., Viriyasitavat, W.</td>\n",
       "      <td>2014.0</td>\n",
       "      <td>IEEE Transactions on Industrial Informatics</td>\n",
       "      <td>10</td>\n",
       "      <td>2</td>\n",
       "      <td>1478-1485</td>\n",
       "      <td>42.0</td>\n",
       "    </tr>\n",
       "    <tr>\n",
       "      <td>2</td>\n",
       "      <td>Compliance checking for requirement-oriented s...</td>\n",
       "      <td>Viriyasitavat, W., Xu, L.D., Viriyasitavat, W.</td>\n",
       "      <td>2014.0</td>\n",
       "      <td>IEEE Transactions on Industrial Informatics</td>\n",
       "      <td>10</td>\n",
       "      <td>2</td>\n",
       "      <td>1469-1477</td>\n",
       "      <td>37.0</td>\n",
       "    </tr>\n",
       "    <tr>\n",
       "      <td>3</td>\n",
       "      <td>The societal relevance of management accountin...</td>\n",
       "      <td>Chiwamit, P., Modell, S., Yang, C.L.</td>\n",
       "      <td>2014.0</td>\n",
       "      <td>Accounting and Business Research</td>\n",
       "      <td>44</td>\n",
       "      <td>2</td>\n",
       "      <td>144-180</td>\n",
       "      <td>31.0</td>\n",
       "    </tr>\n",
       "    <tr>\n",
       "      <td>4</td>\n",
       "      <td>A new approach for compliance checking in serv...</td>\n",
       "      <td>Viriyasitavat, W., Xu, L.D., Viriyasitavat, W.</td>\n",
       "      <td>2014.0</td>\n",
       "      <td>IEEE Transactions on Industrial Informatics</td>\n",
       "      <td>10</td>\n",
       "      <td>2</td>\n",
       "      <td>1452-1460</td>\n",
       "      <td>30.0</td>\n",
       "    </tr>\n",
       "  </tbody>\n",
       "</table>\n",
       "</div>"
      ],
      "text/plain": [
       "                                               Title  \\\n",
       "0  Auditor Independence and Audit Quality: A Lite...   \n",
       "1  A novel architecture for requirement-oriented ...   \n",
       "2  Compliance checking for requirement-oriented s...   \n",
       "3  The societal relevance of management accountin...   \n",
       "4  A new approach for compliance checking in serv...   \n",
       "\n",
       "                                          Authors    Year  \\\n",
       "0                          Tepalagul, N., Lin, L.  2015.0   \n",
       "1                     Xu, L.D., Viriyasitavat, W.  2014.0   \n",
       "2  Viriyasitavat, W., Xu, L.D., Viriyasitavat, W.  2014.0   \n",
       "3            Chiwamit, P., Modell, S., Yang, C.L.  2014.0   \n",
       "4  Viriyasitavat, W., Xu, L.D., Viriyasitavat, W.  2014.0   \n",
       "\n",
       "                           Scopus Source title Volume Issue      Pages  \\\n",
       "0  Journal of Accounting, Auditing and Finance     30     1    101-121   \n",
       "1  IEEE Transactions on Industrial Informatics     10     2  1478-1485   \n",
       "2  IEEE Transactions on Industrial Informatics     10     2  1469-1477   \n",
       "3             Accounting and Business Research     44     2    144-180   \n",
       "4  IEEE Transactions on Industrial Informatics     10     2  1452-1460   \n",
       "\n",
       "   Citations  \n",
       "0       44.0  \n",
       "1       42.0  \n",
       "2       37.0  \n",
       "3       31.0  \n",
       "4       30.0  "
      ]
     },
     "execution_count": 10,
     "metadata": {},
     "output_type": "execute_result"
    }
   ],
   "source": [
    "url='before.xls'\n",
    "df=pd.read_excel(url, skiprows=12)\n",
    "df[:5]"
   ]
  },
  {
   "cell_type": "code",
   "execution_count": 11,
   "metadata": {},
   "outputs": [
    {
     "data": {
      "text/html": [
       "<div>\n",
       "<style scoped>\n",
       "    .dataframe tbody tr th:only-of-type {\n",
       "        vertical-align: middle;\n",
       "    }\n",
       "\n",
       "    .dataframe tbody tr th {\n",
       "        vertical-align: top;\n",
       "    }\n",
       "\n",
       "    .dataframe thead th {\n",
       "        text-align: right;\n",
       "    }\n",
       "</style>\n",
       "<table border=\"1\" class=\"dataframe\">\n",
       "  <thead>\n",
       "    <tr style=\"text-align: right;\">\n",
       "      <th></th>\n",
       "      <th>Unnamed: 0</th>\n",
       "      <th>Title</th>\n",
       "      <th>Authors</th>\n",
       "      <th>Year</th>\n",
       "      <th>Scopus Source title</th>\n",
       "      <th>Volume</th>\n",
       "      <th>Issue</th>\n",
       "      <th>Pages</th>\n",
       "      <th>Citations</th>\n",
       "    </tr>\n",
       "  </thead>\n",
       "  <tbody>\n",
       "    <tr>\n",
       "      <td>0</td>\n",
       "      <td>1.0</td>\n",
       "      <td>Auditor Independence and Audit Quality: A Lite...</td>\n",
       "      <td>Tepalagul, N., Lin, L.</td>\n",
       "      <td>2015.0</td>\n",
       "      <td>Journal of Accounting, Auditing and Finance</td>\n",
       "      <td>30</td>\n",
       "      <td>1</td>\n",
       "      <td>101-121</td>\n",
       "      <td>43.0</td>\n",
       "    </tr>\n",
       "    <tr>\n",
       "      <td>1</td>\n",
       "      <td>2.0</td>\n",
       "      <td>A novel architecture for requirement-oriented ...</td>\n",
       "      <td>Xu, L.D., Viriyasitavat, W.</td>\n",
       "      <td>2014.0</td>\n",
       "      <td>IEEE Transactions on Industrial Informatics</td>\n",
       "      <td>10</td>\n",
       "      <td>2</td>\n",
       "      <td>1478-1485</td>\n",
       "      <td>41.0</td>\n",
       "    </tr>\n",
       "    <tr>\n",
       "      <td>2</td>\n",
       "      <td>3.0</td>\n",
       "      <td>Compliance checking for requirement-oriented s...</td>\n",
       "      <td>Viriyasitavat, W., Xu, L.D., Viriyasitavat, W.</td>\n",
       "      <td>2014.0</td>\n",
       "      <td>IEEE Transactions on Industrial Informatics</td>\n",
       "      <td>10</td>\n",
       "      <td>2</td>\n",
       "      <td>1469-1477</td>\n",
       "      <td>36.0</td>\n",
       "    </tr>\n",
       "    <tr>\n",
       "      <td>3</td>\n",
       "      <td>4.0</td>\n",
       "      <td>The societal relevance of management accountin...</td>\n",
       "      <td>Chiwamit, P., Modell, S., Yang, C.L.</td>\n",
       "      <td>2014.0</td>\n",
       "      <td>Accounting and Business Research</td>\n",
       "      <td>44</td>\n",
       "      <td>2</td>\n",
       "      <td>144-180</td>\n",
       "      <td>31.0</td>\n",
       "    </tr>\n",
       "    <tr>\n",
       "      <td>4</td>\n",
       "      <td>5.0</td>\n",
       "      <td>Revenue maximization with a single sample</td>\n",
       "      <td>Dhangwatnotai, P., Roughgarden, T., Yan, Q.</td>\n",
       "      <td>2015.0</td>\n",
       "      <td>Games and Economic Behavior</td>\n",
       "      <td>91</td>\n",
       "      <td>-</td>\n",
       "      <td>318-333</td>\n",
       "      <td>29.0</td>\n",
       "    </tr>\n",
       "  </tbody>\n",
       "</table>\n",
       "</div>"
      ],
      "text/plain": [
       "   Unnamed: 0                                              Title  \\\n",
       "0         1.0  Auditor Independence and Audit Quality: A Lite...   \n",
       "1         2.0  A novel architecture for requirement-oriented ...   \n",
       "2         3.0  Compliance checking for requirement-oriented s...   \n",
       "3         4.0  The societal relevance of management accountin...   \n",
       "4         5.0          Revenue maximization with a single sample   \n",
       "\n",
       "                                          Authors    Year  \\\n",
       "0                          Tepalagul, N., Lin, L.  2015.0   \n",
       "1                     Xu, L.D., Viriyasitavat, W.  2014.0   \n",
       "2  Viriyasitavat, W., Xu, L.D., Viriyasitavat, W.  2014.0   \n",
       "3            Chiwamit, P., Modell, S., Yang, C.L.  2014.0   \n",
       "4     Dhangwatnotai, P., Roughgarden, T., Yan, Q.  2015.0   \n",
       "\n",
       "                           Scopus Source title Volume Issue      Pages  \\\n",
       "0  Journal of Accounting, Auditing and Finance     30     1    101-121   \n",
       "1  IEEE Transactions on Industrial Informatics     10     2  1478-1485   \n",
       "2  IEEE Transactions on Industrial Informatics     10     2  1469-1477   \n",
       "3             Accounting and Business Research     44     2    144-180   \n",
       "4                  Games and Economic Behavior     91     -    318-333   \n",
       "\n",
       "   Citations  \n",
       "0       43.0  \n",
       "1       41.0  \n",
       "2       36.0  \n",
       "3       31.0  \n",
       "4       29.0  "
      ]
     },
     "execution_count": 11,
     "metadata": {},
     "output_type": "execute_result"
    }
   ],
   "source": [
    "url='after.xlsx'\n",
    "df=pd.read_excel(url, skiprows=12)\n",
    "df[:5]"
   ]
  },
  {
   "cell_type": "code",
   "execution_count": 12,
   "metadata": {},
   "outputs": [
    {
     "ename": "ValueError",
     "evalue": "Length mismatch: Expected axis has 9 elements, new values have 2 elements",
     "output_type": "error",
     "traceback": [
      "\u001b[1;31m---------------------------------------------------------------------------\u001b[0m",
      "\u001b[1;31mValueError\u001b[0m                                Traceback (most recent call last)",
      "\u001b[1;32m<ipython-input-12-203ce7621ecb>\u001b[0m in \u001b[0;36m<module>\u001b[1;34m\u001b[0m\n\u001b[1;32m----> 1\u001b[1;33m \u001b[0mdf\u001b[0m\u001b[1;33m.\u001b[0m\u001b[0mcolumns\u001b[0m\u001b[1;33m=\u001b[0m\u001b[1;33m[\u001b[0m\u001b[1;34m'Date'\u001b[0m\u001b[1;33m,\u001b[0m \u001b[1;34m'Price'\u001b[0m\u001b[1;33m]\u001b[0m\u001b[1;33m\u001b[0m\u001b[1;33m\u001b[0m\u001b[0m\n\u001b[0m",
      "\u001b[1;32m~\\Anaconda3\\lib\\site-packages\\pandas\\core\\generic.py\u001b[0m in \u001b[0;36m__setattr__\u001b[1;34m(self, name, value)\u001b[0m\n\u001b[0;32m   5190\u001b[0m         \u001b[1;32mtry\u001b[0m\u001b[1;33m:\u001b[0m\u001b[1;33m\u001b[0m\u001b[1;33m\u001b[0m\u001b[0m\n\u001b[0;32m   5191\u001b[0m             \u001b[0mobject\u001b[0m\u001b[1;33m.\u001b[0m\u001b[0m__getattribute__\u001b[0m\u001b[1;33m(\u001b[0m\u001b[0mself\u001b[0m\u001b[1;33m,\u001b[0m \u001b[0mname\u001b[0m\u001b[1;33m)\u001b[0m\u001b[1;33m\u001b[0m\u001b[1;33m\u001b[0m\u001b[0m\n\u001b[1;32m-> 5192\u001b[1;33m             \u001b[1;32mreturn\u001b[0m \u001b[0mobject\u001b[0m\u001b[1;33m.\u001b[0m\u001b[0m__setattr__\u001b[0m\u001b[1;33m(\u001b[0m\u001b[0mself\u001b[0m\u001b[1;33m,\u001b[0m \u001b[0mname\u001b[0m\u001b[1;33m,\u001b[0m \u001b[0mvalue\u001b[0m\u001b[1;33m)\u001b[0m\u001b[1;33m\u001b[0m\u001b[1;33m\u001b[0m\u001b[0m\n\u001b[0m\u001b[0;32m   5193\u001b[0m         \u001b[1;32mexcept\u001b[0m \u001b[0mAttributeError\u001b[0m\u001b[1;33m:\u001b[0m\u001b[1;33m\u001b[0m\u001b[1;33m\u001b[0m\u001b[0m\n\u001b[0;32m   5194\u001b[0m             \u001b[1;32mpass\u001b[0m\u001b[1;33m\u001b[0m\u001b[1;33m\u001b[0m\u001b[0m\n",
      "\u001b[1;32mpandas\\_libs\\properties.pyx\u001b[0m in \u001b[0;36mpandas._libs.properties.AxisProperty.__set__\u001b[1;34m()\u001b[0m\n",
      "\u001b[1;32m~\\Anaconda3\\lib\\site-packages\\pandas\\core\\generic.py\u001b[0m in \u001b[0;36m_set_axis\u001b[1;34m(self, axis, labels)\u001b[0m\n\u001b[0;32m    688\u001b[0m \u001b[1;33m\u001b[0m\u001b[0m\n\u001b[0;32m    689\u001b[0m     \u001b[1;32mdef\u001b[0m \u001b[0m_set_axis\u001b[0m\u001b[1;33m(\u001b[0m\u001b[0mself\u001b[0m\u001b[1;33m,\u001b[0m \u001b[0maxis\u001b[0m\u001b[1;33m,\u001b[0m \u001b[0mlabels\u001b[0m\u001b[1;33m)\u001b[0m\u001b[1;33m:\u001b[0m\u001b[1;33m\u001b[0m\u001b[1;33m\u001b[0m\u001b[0m\n\u001b[1;32m--> 690\u001b[1;33m         \u001b[0mself\u001b[0m\u001b[1;33m.\u001b[0m\u001b[0m_data\u001b[0m\u001b[1;33m.\u001b[0m\u001b[0mset_axis\u001b[0m\u001b[1;33m(\u001b[0m\u001b[0maxis\u001b[0m\u001b[1;33m,\u001b[0m \u001b[0mlabels\u001b[0m\u001b[1;33m)\u001b[0m\u001b[1;33m\u001b[0m\u001b[1;33m\u001b[0m\u001b[0m\n\u001b[0m\u001b[0;32m    691\u001b[0m         \u001b[0mself\u001b[0m\u001b[1;33m.\u001b[0m\u001b[0m_clear_item_cache\u001b[0m\u001b[1;33m(\u001b[0m\u001b[1;33m)\u001b[0m\u001b[1;33m\u001b[0m\u001b[1;33m\u001b[0m\u001b[0m\n\u001b[0;32m    692\u001b[0m \u001b[1;33m\u001b[0m\u001b[0m\n",
      "\u001b[1;32m~\\Anaconda3\\lib\\site-packages\\pandas\\core\\internals\\managers.py\u001b[0m in \u001b[0;36mset_axis\u001b[1;34m(self, axis, new_labels)\u001b[0m\n\u001b[0;32m    181\u001b[0m             raise ValueError(\n\u001b[0;32m    182\u001b[0m                 \u001b[1;34m\"Length mismatch: Expected axis has {old} elements, new \"\u001b[0m\u001b[1;33m\u001b[0m\u001b[1;33m\u001b[0m\u001b[0m\n\u001b[1;32m--> 183\u001b[1;33m                 \u001b[1;34m\"values have {new} elements\"\u001b[0m\u001b[1;33m.\u001b[0m\u001b[0mformat\u001b[0m\u001b[1;33m(\u001b[0m\u001b[0mold\u001b[0m\u001b[1;33m=\u001b[0m\u001b[0mold_len\u001b[0m\u001b[1;33m,\u001b[0m \u001b[0mnew\u001b[0m\u001b[1;33m=\u001b[0m\u001b[0mnew_len\u001b[0m\u001b[1;33m)\u001b[0m\u001b[1;33m\u001b[0m\u001b[1;33m\u001b[0m\u001b[0m\n\u001b[0m\u001b[0;32m    184\u001b[0m             )\n\u001b[0;32m    185\u001b[0m \u001b[1;33m\u001b[0m\u001b[0m\n",
      "\u001b[1;31mValueError\u001b[0m: Length mismatch: Expected axis has 9 elements, new values have 2 elements"
     ]
    }
   ],
   "source": [
    "df.columns=['Date', 'Price']"
   ]
  },
  {
   "cell_type": "code",
   "execution_count": 13,
   "metadata": {},
   "outputs": [
    {
     "name": "stdout",
     "output_type": "stream",
     "text": [
      "<class 'pandas.core.frame.DataFrame'>\n",
      "RangeIndex: 198 entries, 0 to 197\n",
      "Data columns (total 9 columns):\n",
      "Unnamed: 0             196 non-null float64\n",
      "Title                  197 non-null object\n",
      "Authors                196 non-null object\n",
      "Year                   196 non-null float64\n",
      "Scopus Source title    196 non-null object\n",
      "Volume                 196 non-null object\n",
      "Issue                  196 non-null object\n",
      "Pages                  196 non-null object\n",
      "Citations              196 non-null float64\n",
      "dtypes: float64(3), object(6)\n",
      "memory usage: 14.0+ KB\n"
     ]
    }
   ],
   "source": [
    "df.info()"
   ]
  },
  {
   "cell_type": "code",
   "execution_count": 9,
   "metadata": {},
   "outputs": [
    {
     "ename": "NameError",
     "evalue": "name 'df' is not defined",
     "output_type": "error",
     "traceback": [
      "\u001b[1;31m---------------------------------------------------------------------------\u001b[0m",
      "\u001b[1;31mNameError\u001b[0m                                 Traceback (most recent call last)",
      "\u001b[1;32m<ipython-input-9-2d03e4b2464f>\u001b[0m in \u001b[0;36m<module>\u001b[1;34m\u001b[0m\n\u001b[1;32m----> 1\u001b[1;33m \u001b[0mdf\u001b[0m\u001b[1;33m[\u001b[0m\u001b[1;33m:\u001b[0m\u001b[1;36m5\u001b[0m\u001b[1;33m]\u001b[0m\u001b[1;33m\u001b[0m\u001b[1;33m\u001b[0m\u001b[0m\n\u001b[0m",
      "\u001b[1;31mNameError\u001b[0m: name 'df' is not defined"
     ]
    }
   ],
   "source": [
    "df[:5]"
   ]
  },
  {
   "cell_type": "code",
   "execution_count": null,
   "metadata": {},
   "outputs": [],
   "source": []
  }
 ],
 "metadata": {
  "kernelspec": {
   "display_name": "Python 3",
   "language": "python",
   "name": "python3"
  },
  "language_info": {
   "codemirror_mode": {
    "name": "ipython",
    "version": 3
   },
   "file_extension": ".py",
   "mimetype": "text/x-python",
   "name": "python",
   "nbconvert_exporter": "python",
   "pygments_lexer": "ipython3",
   "version": "3.7.4"
  }
 },
 "nbformat": 4,
 "nbformat_minor": 4
}
